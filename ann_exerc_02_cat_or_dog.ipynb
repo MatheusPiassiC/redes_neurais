{
  "cells": [
    {
      "cell_type": "markdown",
      "metadata": {
        "id": "view-in-github",
        "colab_type": "text"
      },
      "source": [
        "<a href=\"https://colab.research.google.com/github/MatheusPiassiC/redes_neurais/blob/main/ann_exerc_02_cat_or_dog.ipynb\" target=\"_parent\"><img src=\"https://colab.research.google.com/assets/colab-badge.svg\" alt=\"Open In Colab\"/></a>"
      ]
    },
    {
      "cell_type": "markdown",
      "metadata": {
        "id": "bC6bwsjjbtwH"
      },
      "source": [
        "# Curso: Redes Neurais e Deep Learning\n",
        "\n",
        "Prof. Denilson Alves Pereira\n",
        "https://sites.google.com/ufla.br/denilsonpereira/\n",
        "Departamento de Ciência da Computação -\n",
        "Instituto de Ciências Exatas e Tecnológicas -\n",
        "Universidade Federal de Lavras\n",
        "\n",
        "# Atividade Prática 02\n",
        "\n",
        "**Instruções:**\n",
        "1. Siga os passos indicados em cada célula abaixo para completar a atividade.\n",
        "2. Você deve inserir código somente entre as linhas marcadas com **INICIE O CÓDIGO AQUI** e **TERMINE O CÓDIGO AQUI**. Há uma indicação de quantas linhas de código são necessárias.\n",
        "3. Em alguns pontos, confira o resultado esperado conforme marcado com **SAÍDA ESPERADA**.\n",
        "\n",
        "**Tempo estimado para execução**: 1 hora\n",
        "\n",
        "Versão: Junho, 2021"
      ]
    },
    {
      "cell_type": "markdown",
      "metadata": {
        "id": "8itahvG1btwK"
      },
      "source": [
        "## O Problema a ser Resolvido\n",
        "\n",
        "O objetivo da atividade é elaborar uma rede neural para predizer se o animal de uma imagem é um gato ou um cachorro. <br>\n",
        "\n",
        "Será usado um dataset contendo 8.000 imagens para treinamento e 4.000 para teste, sendo a metade delas de gatos e a outra metade, de cachorros. As imagens têm tamanhos diversos e estão no formato RGB.\n",
        "\n",
        "Você vai praticar as seguintes habilidades:\n",
        "- Ler arquivos de imagens e convertê-los para vetores de pixels\n",
        "- Utilizar um gerador de dados aumentados para expandir o conjunto de imagens para treinamento da rede\n",
        "- Configurar uma rede neural simples para um problema de classificação multiclasse de imagens. Embora só existam duas classes, a saída será configurada para predizer \"cat\" se a imagem é de um gato ou \"dog\" se a imagem é de um cachorro.\n",
        "\n",
        "É importante destacar que a arquitetura de rede neural utilizada no nesta atividade **não** é a mais indicada para classificar imagens. Para uma melhor eficácia, devem ser adicionadas algumas camadas de Redes Neurais Convolucionais (CNN), que é assunto do próximo curso."
      ]
    },
    {
      "cell_type": "markdown",
      "metadata": {
        "id": "hVwLw0jJbtwL"
      },
      "source": [
        "## Pacotes"
      ]
    },
    {
      "cell_type": "code",
      "execution_count": null,
      "metadata": {
        "id": "uOlRwKU3btwL"
      },
      "outputs": [],
      "source": [
        "import numpy as np # scientific computing\n",
        "import tensorflow as tf  #  numerical computation using data flow graphs\n",
        "from tensorflow import keras  # deep learning\n",
        "from keras_preprocessing.image import ImageDataGenerator, load_img  # generate batches of tensor image data with real-time data augmentation\n",
        "import pandas as pd # structured data\n",
        "import matplotlib.pyplot as plt # scientific plotting library\n",
        "import random  # pseudo-random number generators\n",
        "import os  # for accessing directory structure"
      ]
    },
    {
      "cell_type": "markdown",
      "metadata": {
        "id": "3C-iMSHsbtwM"
      },
      "source": [
        "## Inicializações"
      ]
    },
    {
      "cell_type": "code",
      "execution_count": null,
      "metadata": {
        "id": "lQD74FfsbtwM"
      },
      "outputs": [],
      "source": [
        "IMAGE_WIDTH = 128  # largura da imagem\n",
        "IMAGE_HEIGHT = 128 # altura da imagem\n",
        "IMAGE_SIZE = (IMAGE_WIDTH, IMAGE_HEIGHT) # tamanho da imagem\n",
        "IMAGE_CHANNELS = 3  # número de canais RGB da imagem\n",
        "DIR_TRAIN = \"./dataset-cats-and-dogs/training_set/\"  # diretório contendo dados de treinamento\n",
        "DIR_TEST = \"./dataset-cats-and-dogs/test_set/\"  # diretório contendo dados de teste"
      ]
    },
    {
      "cell_type": "markdown",
      "metadata": {
        "id": "ATjqOAV4btwN"
      },
      "source": [
        "## Pré-Processamento dos Dados de Treino e de Teste\n",
        "\n",
        "Fonte: https://www.kaggle.com/d4rklucif3r/cat-and-dogs"
      ]
    },
    {
      "cell_type": "markdown",
      "metadata": {
        "id": "uNOqZ_9ObtwN"
      },
      "source": [
        "### Treino"
      ]
    },
    {
      "cell_type": "code",
      "execution_count": null,
      "metadata": {
        "id": "DQ6ZZyM8btwN"
      },
      "outputs": [],
      "source": [
        "# Read the images from the training directory and generates a pandas structure with the name of each file and the class of the image (cat or dog)\n",
        "filenames = os.listdir(DIR_TRAIN)\n",
        "categories = []\n",
        "for filename in filenames:\n",
        "    categories.append(filename.split('.')[0]) # category = initial part of the file name\n",
        "\n",
        "df_train = pd.DataFrame({\n",
        "    'filename': filenames,\n",
        "    'category': categories\n",
        "})"
      ]
    },
    {
      "cell_type": "code",
      "execution_count": null,
      "metadata": {
        "id": "awWhHMRobtwN"
      },
      "outputs": [],
      "source": [
        "df_train.head()"
      ]
    },
    {
      "cell_type": "code",
      "execution_count": null,
      "metadata": {
        "id": "XLFkEbZrbtwO"
      },
      "outputs": [],
      "source": [
        "df_train.tail()"
      ]
    },
    {
      "cell_type": "code",
      "execution_count": null,
      "metadata": {
        "id": "-Hr7Z3csbtwO"
      },
      "outputs": [],
      "source": [
        "# number of cats and dogs\n",
        "df_train['category'].value_counts().plot.bar()"
      ]
    },
    {
      "cell_type": "markdown",
      "metadata": {
        "id": "UOZbFYDzbtwO"
      },
      "source": [
        "#### Exibe uma amostra"
      ]
    },
    {
      "cell_type": "code",
      "execution_count": null,
      "metadata": {
        "id": "g99YJ5OmbtwO"
      },
      "outputs": [],
      "source": [
        "# Randomly chooses a file and displays its image\n",
        "sample = random.choice(filenames)\n",
        "image = load_img(DIR_TRAIN+sample)\n",
        "plt.imshow(image)\n",
        "plt.title(sample)"
      ]
    },
    {
      "cell_type": "code",
      "execution_count": null,
      "metadata": {
        "id": "ToYRGvvgbtwO"
      },
      "outputs": [],
      "source": [
        "# summarize some details about the image\n",
        "print(image.format)\n",
        "print(image.mode)\n",
        "print(image.size)"
      ]
    },
    {
      "cell_type": "markdown",
      "metadata": {
        "id": "KgpZMKMJbtwO"
      },
      "source": [
        "### Representação de imagens RGB\n",
        "\n",
        "![imagem-rgb.png](attachment:imagem-rgb.png)\n",
        "\n",
        "Em imagens coloridas, o padrão RGB (Red, Green, Blue) representa cada pixel como um vetor de três números para os três canais das cores primárias vermelho, verde e azul. Cada número varia de 0 a 255, representando a intensidade da cor correspondente. O três valores combinados formam a cor do pixel. Por exemplo, a cor violeta pode ser representada como 128, 0, 128, uma mistura de intensidade moderada de vermelho e azul, sem o verde.\n",
        "\n",
        "Já em imagens em escala de cinza (*grayscale*), cada pixel é representado com um único número (entre 0 e 255), o qual determina o quão preto é o pixel (0 é preto e 255 é branco brilhante)."
      ]
    },
    {
      "cell_type": "code",
      "execution_count": null,
      "metadata": {
        "id": "WdvRqL64btwO"
      },
      "outputs": [],
      "source": [
        "# convert image to numpy array\n",
        "data = np.asarray(image)\n",
        "# summarize shape\n",
        "print(data.shape)"
      ]
    },
    {
      "cell_type": "markdown",
      "metadata": {
        "id": "dTN1KBR7btwP"
      },
      "source": [
        "### Teste"
      ]
    },
    {
      "cell_type": "code",
      "execution_count": null,
      "metadata": {
        "id": "mwrdoA6abtwP"
      },
      "outputs": [],
      "source": [
        "# Read the images from the test directory and generates a pandas structure with the name of each file and the class of the image (cat or dog)\n",
        "filenames = os.listdir(DIR_TEST)\n",
        "categories = []\n",
        "for filename in filenames:\n",
        "    categories.append(filename.split('.')[0]) # category = file name\n",
        "\n",
        "df_test = pd.DataFrame({\n",
        "    'filename': filenames,\n",
        "    'category': categories\n",
        "})"
      ]
    },
    {
      "cell_type": "code",
      "execution_count": null,
      "metadata": {
        "id": "P9HQtoSEbtwP"
      },
      "outputs": [],
      "source": [
        "df_test.head()"
      ]
    },
    {
      "cell_type": "code",
      "execution_count": null,
      "metadata": {
        "id": "zPdDVmgibtwP"
      },
      "outputs": [],
      "source": [
        "df_test.tail()"
      ]
    },
    {
      "cell_type": "code",
      "execution_count": null,
      "metadata": {
        "id": "WpT5xVHzbtwP"
      },
      "outputs": [],
      "source": [
        "# number of cats and dogs\n",
        "df_test['category'].value_counts().plot.bar()"
      ]
    },
    {
      "cell_type": "markdown",
      "metadata": {
        "id": "S21__gmabtwP"
      },
      "source": [
        "#### Exibe uma amostra\n",
        "\n",
        "Escolha um arquivo aleatório do conjunto de teste e exiba sua imagem"
      ]
    },
    {
      "cell_type": "code",
      "execution_count": null,
      "metadata": {
        "id": "_ntUXhQObtwP"
      },
      "outputs": [],
      "source": [
        "# Randomly chooses a file and displays its image\n",
        "### INICIE O CÓDIGO AQUI ### (4 linhas de código)\n",
        "\n",
        "\n",
        "\n",
        "\n",
        "### TERMINE O CÓDIGO AQUI ###"
      ]
    },
    {
      "cell_type": "markdown",
      "metadata": {
        "id": "ur-XR6XcbtwP"
      },
      "source": [
        "### Data Augmentation\n",
        "\n",
        "*Data Augmentation* (aumento de dados) é uma técnica usada para expandir artificialmente o conjunto de dados de treinamento. Ela ajuda a evitar o problema de *overfitting*, que faz com que o modelo de treinamento fique muito ajustado aos dados usados para o treinamento, e não gera um bom desempenho em outros conjuntos de dados.\n",
        "\n",
        "No caso das imagens de gatos e cachorros, a ideia é alterar os dados de treino com pequenas transformações nas imagens, de forma a reproduzir as variações que ocorrem quando alguém tira uma foto. Por exemplo, centralização, diferentes escalas (gatos/cachorros grandes e pequenos), a imagem está rotacionada etc. Além disso, o dataset contém imagens de tamanhos diferentes, e precisam ser padronizadas para dar entrada na rede neural.\n",
        "\n",
        "As abordagens para *data augmentation* alteram os dados de treino de forma a mudar a representação vetorial, mas mantendo o mesmo rótulo de classe. Algumas transformações populares são: grayscales, horizontal flips, vertical flips, random crops, color jitters, translations, rotations, shift, brightness, and zoom..\n",
        "\n",
        "Fazendo algumas dessas transformações nos dados de treino, é possível multiplicar o número de exemplos de treino, de forma a criar um modelo mais robusto.\n",
        "\n",
        "Tutorial para configurar *data augmentation* de imagens em Keras: https://machinelearningmastery.com/how-to-configure-image-data-augmentation-when-training-deep-learning-neural-networks/"
      ]
    },
    {
      "cell_type": "markdown",
      "metadata": {
        "id": "kqi-pvMPbtwP"
      },
      "source": [
        "### Generador de Treino\n",
        "\n",
        "Documentação: https://www.tensorflow.org/api_docs/python/tf/keras/preprocessing/image/ImageDataGenerator\n",
        "\n",
        "Este exemplo foi adaptado de https://www.kaggle.com/uysimty/keras-cnn-dog-or-cat-classification. <br>"
      ]
    },
    {
      "cell_type": "code",
      "execution_count": null,
      "metadata": {
        "scrolled": true,
        "id": "2-9KLWRqbtwP"
      },
      "outputs": [],
      "source": [
        "batch_size = 15\n",
        "train_datagen = ImageDataGenerator(\n",
        "    rotation_range = 15,\n",
        "    rescale = 1./255,\n",
        "    shear_range = 0.1,\n",
        "    zoom_range = 0.2,\n",
        "    horizontal_flip = True,\n",
        "    width_shift_range = 0.1,\n",
        "    height_shift_range = 0.1\n",
        ")\n",
        "\n",
        "# Takes the dataframe and the path to a directory and generates batches.\n",
        "# The generated batches contain augmented/normalized data.\n",
        "train_generator = train_datagen.flow_from_dataframe(\n",
        "    df_train,\n",
        "    DIR_TRAIN,\n",
        "    x_col = 'filename',\n",
        "    y_col = 'category',\n",
        "    target_size = IMAGE_SIZE,\n",
        "    class_mode = 'categorical',\n",
        "    batch_size = batch_size\n",
        ")"
      ]
    },
    {
      "cell_type": "markdown",
      "metadata": {
        "id": "cZLkv8eMbtwP"
      },
      "source": [
        "### Generador de Teste\n",
        "\n",
        "Um gerador de dados pode também ser usado para especificar o dataset de validação e o dataset de teste. Normalmente, uma instância separada de ImageDataGenerator é criada para que se possa configurar a mesma escala de pixels que aquela usada na instância ImageDataGenerator do dataset de treinamento, mas ela não usará *data augmentation*. Isso ocorre porque *data augmentation* é somente usada como uma técnica para expandir artificialmente o dataset de treinamento, para se melhorar o desempenho de um dataset menor."
      ]
    },
    {
      "cell_type": "code",
      "execution_count": null,
      "metadata": {
        "id": "61HxPJ7wbtwP"
      },
      "outputs": [],
      "source": [
        "test_datagen = ImageDataGenerator(rescale=1./255)\n",
        "test_generator = test_datagen.flow_from_dataframe(\n",
        "    df_test,\n",
        "    DIR_TEST,\n",
        "    x_col = 'filename',\n",
        "    y_col = 'category',\n",
        "    target_size = IMAGE_SIZE,\n",
        "    class_mode = 'categorical',\n",
        "    batch_size = batch_size\n",
        ")"
      ]
    },
    {
      "cell_type": "markdown",
      "metadata": {
        "id": "_VcAJt2pbtwP"
      },
      "source": [
        "### Exemplo das Imagens Aumentadas"
      ]
    },
    {
      "cell_type": "code",
      "execution_count": null,
      "metadata": {
        "id": "Jqo5gLuabtwQ"
      },
      "outputs": [],
      "source": [
        "df_example = df_train.sample(n=1).reset_index(drop=True)\n",
        "example_generator = train_datagen.flow_from_dataframe(\n",
        "    df_example,\n",
        "    DIR_TRAIN,\n",
        "    x_col='filename',\n",
        "    y_col='category',\n",
        "    target_size=IMAGE_SIZE,\n",
        "    class_mode='categorical'\n",
        ")"
      ]
    },
    {
      "cell_type": "code",
      "execution_count": null,
      "metadata": {
        "id": "lZNVEp5TbtwQ"
      },
      "outputs": [],
      "source": [
        "plt.figure(figsize=(12, 12))\n",
        "for i in range(0, 15):\n",
        "    plt.subplot(5, 3, i+1)\n",
        "    for X_batch, Y_batch in example_generator:\n",
        "        image = X_batch[0]\n",
        "        plt.imshow(image)\n",
        "        break\n",
        "plt.tight_layout()\n",
        "plt.show()"
      ]
    },
    {
      "cell_type": "markdown",
      "metadata": {
        "id": "t2MrJlhgbtwQ"
      },
      "source": [
        "## Definição do Modelo\n",
        "\n",
        "Crie um modelo em Keras com a seguinte configuração:\n",
        "- Camada de entrada: no formato dos dados de entrada do problema\n",
        "- Camada *Flatten*: camada para achatar o vetor de entrada. No padrão RGB, cada imagem é representada como um vetor de 3 dimensões. Entretanto, cada entrada em uma rede neural é composta por um vetor de apenas uma dimensão. Assim, é necessário \"achatar\" o vetor da imagam para uma dimensão. Isso é feito pela camada *Flatten*, que cria um vetor de uma dimensão concatenando sequencialmente os valores nos vetores dos três canais da imagem. Desta forma, se o vetor imagem tem o formato (128, 128, 3), por exemplo, o vetor achatado terá dimensão (49.152, 1), o resultado de 128 x 128 x 3.\n",
        "- Camada 1: 32 neurônios, função de ativação *ReLu*\n",
        "- Camada 2: 64 neurônios, função de ativação *ReLu*\n",
        "- Camada 3: 32 neurônios, função de ativação *ReLu*\n",
        "- Camada 4 (saída): 2 neurônios, função de ativação *Softmax*. Embora tenha apenas duas classes, o problema deve ser modelado como uma classificação multiclasse (\"cat\" ou \"dog\"). Assim, a camada de saída deve ter duas unidades e usar a função Softmax.\n",
        "\n",
        "Documentação: <br>\n",
        "Keras: https://keras.io/ <br>\n",
        "Flatten layer: https://keras.io/api/layers/reshaping_layers/flatten/ <br>\n",
        "Classe *Model*: https://keras.io/api/models/model/ <br>\n",
        "Funções de ativação disponíveis: https://keras.io/api/layers/activations/"
      ]
    },
    {
      "cell_type": "code",
      "execution_count": null,
      "metadata": {
        "id": "Ev-2Z1MlbtwQ"
      },
      "outputs": [],
      "source": [
        "### INICIE O CÓDIGO AQUI ### (7 linhas de código)\n",
        "\n",
        "\n",
        "\n",
        "\n",
        "\n",
        "\n",
        "\n",
        "### TERMINE O CÓDIGO AQUI ###"
      ]
    },
    {
      "cell_type": "code",
      "execution_count": null,
      "metadata": {
        "id": "wR-wzZVBbtwQ"
      },
      "outputs": [],
      "source": [
        "# Prints a summary of the network, showing its architecture and parameters.\n",
        "model.summary()"
      ]
    },
    {
      "cell_type": "markdown",
      "metadata": {
        "id": "FUazWuQabtwQ"
      },
      "source": [
        "**SAÍDA ESPERADA**: <br>\n",
        "Confira a configuração da rede e o total de parâmetros = 1,577,154\n",
        "\n",
        "---"
      ]
    },
    {
      "cell_type": "markdown",
      "metadata": {
        "id": "1Kw83PZFbtwQ"
      },
      "source": [
        "## Compilação do Modelo\n",
        "\n",
        "Compile o model usando os seguintes parâmetros:\n",
        "- Função de perda: categorical_crossentropy\n",
        "- Otimizador: adam\n",
        "- Métricas: accuracy\n",
        "\n",
        "Dica 1: use a função *compile*: https://keras.io/api/models/model_training_apis/ <br>\n",
        "Dica 2: relação de funções de perda: https://www.tensorflow.org/api_docs/python/tf/keras/losses <br>\n",
        "Dica 3: relação de otimizadores: https://www.tensorflow.org/api_docs/python/tf/keras/optimizers <br>\n",
        "Dica 4: relação de métricas: https://keras.io/api/metrics/"
      ]
    },
    {
      "cell_type": "code",
      "execution_count": null,
      "metadata": {
        "scrolled": false,
        "id": "bFd755UIbtwQ"
      },
      "outputs": [],
      "source": [
        "### INICIE O CÓDIGO AQUI ### (1 linha de código)\n",
        "\n",
        "### TERMINE O CÓDIGO AQUI ###"
      ]
    },
    {
      "cell_type": "markdown",
      "metadata": {
        "id": "SMKm3eVPbtwQ"
      },
      "source": [
        "## Treinamento do Modelo\n",
        "\n",
        "Ajusta o modelo aos dados de treinamento.\n",
        "Devem ser fornecidos os dados de treinamento e o número de épocas (iterações). Uma época é composta por uma única passagem por todos os exemplos do conjunto de treino.\n",
        "\n",
        "Efetue o treinamento do modelo usando 3 épocas com os dados aumentados do gerador de treino *train_generator*.\n",
        "\n",
        "Dica: use a função *fit*: https://keras.io/api/models/model_training_apis/"
      ]
    },
    {
      "cell_type": "code",
      "execution_count": null,
      "metadata": {
        "scrolled": true,
        "id": "wx0lDRxgbtwW"
      },
      "outputs": [],
      "source": [
        "### INICIE O CÓDIGO AQUI ### (1 linha de código)\n",
        "\n",
        "### TERMINE O CÓDIGO AQUI ###\n",
        "print(history.history)  # print per-epoch timeseries of metrics values"
      ]
    },
    {
      "cell_type": "markdown",
      "metadata": {
        "id": "6R4BmvqObtwW"
      },
      "source": [
        "**SAÍDA ESPERADA**: <br>\n",
        "Na época 3, tem-se o seguinte resultado (aproximado): <br>\n",
        "{'loss': [0.8931004405021667, 0.6976273059844971, 0.6935341954231262], 'accuracy': [0.5130000114440918, 0.5195000171661377, 0.5037500262260437]}\n",
        "\n",
        "---"
      ]
    },
    {
      "cell_type": "markdown",
      "metadata": {
        "id": "HptIse4kbtwW"
      },
      "source": [
        "## Avaliação do Modelo\n",
        "\n",
        "Avalie o desempenho da rede no conjunto de teste usando o gerador de dados aumentados *test_generator*.\n",
        "\n",
        "Dica: use a função *evaluate*: https://keras.io/api/models/model_training_apis/"
      ]
    },
    {
      "cell_type": "code",
      "execution_count": null,
      "metadata": {
        "id": "MXdxVLXabtwX"
      },
      "outputs": [],
      "source": [
        "### INICIE O CÓDIGO AQUI ### (1 linha de código)\n",
        "\n",
        "### TERMINE O CÓDIGO AQUI ###\n",
        "print(\"Loss: %.2f\" % loss, \"\\nAccuracy: %.2f\" % acc)"
      ]
    },
    {
      "cell_type": "markdown",
      "metadata": {
        "id": "WS4CaTbIbtwX"
      },
      "source": [
        "**SAÍDA ESPERADA**: <br>\n",
        "Valores aproximados:\n",
        "\n",
        "Loss: 0.69 <br>\n",
        "Accuracy: 0.50\n",
        "\n",
        "---"
      ]
    },
    {
      "cell_type": "markdown",
      "metadata": {
        "id": "lt4lANG8btwX"
      },
      "source": [
        "## Predição\n",
        "\n",
        "Apresente a predição do conjunto de teste usando o gerador de dados aumentados *test_generator*.\n",
        "\n",
        "Documentação: <br>\n",
        "Função *predict*: https://keras.io/api/models/model_training_apis/ <br>\n",
        "Função *argmax*: https://numpy.org/doc/stable/reference/generated/numpy.argmax.html\n",
        "\n",
        "Na classificação multiclasse, *model.predict* retorna um vetor de probabilidades para cada classe. A função *argmax* retorna o índice do vetor com a maior probabilidade, neste caso, 0 para gato e 1 para cachorro."
      ]
    },
    {
      "cell_type": "code",
      "execution_count": null,
      "metadata": {
        "scrolled": true,
        "id": "oeW6UNMfbtwX"
      },
      "outputs": [],
      "source": [
        "### INICIE O CÓDIGO AQUI ### (1 linha de código)\n",
        "\n",
        "### TERMINE O CÓDIGO AQUI ###\n",
        "preds = [np.argmax(x, axis=-1) for x in predictions]\n",
        "print(\"Predictions: \", [\"cat\" if x == 0 else \"dog\" for x in preds[:30]]) # print the first 30 predictions\n",
        "print(\"\\nCorrect:     \", [x for x in df_test['category'][:30]])"
      ]
    },
    {
      "cell_type": "markdown",
      "metadata": {
        "id": "IPKBGXapbtwX"
      },
      "source": [
        "**SAÍDA ESPERADA**: <br>\n",
        "Valores aproximados: <br>\n",
        "Predictions:  ['dog', 'dog', 'dog', 'dog', 'dog', 'dog', 'dog', 'dog', 'dog', 'dog', 'dog', 'dog', 'dog', 'dog', 'dog', 'dog', 'dog', 'dog', 'dog', 'dog', 'dog', 'dog', 'dog', 'dog', 'dog', 'dog', 'dog', 'dog', 'dog', 'dog']\n",
        "\n",
        "Correct:      ['dog', 'cat', 'cat', 'dog', 'dog', 'dog', 'dog', 'dog', 'dog', 'dog', 'dog', 'dog', 'cat', 'dog', 'cat', 'dog', 'dog', 'cat', 'cat', 'cat', 'cat', 'dog', 'cat', 'dog', 'cat', 'cat', 'cat', 'cat', 'cat', 'cat']\n",
        "\n",
        "---"
      ]
    },
    {
      "cell_type": "markdown",
      "metadata": {
        "id": "0KhGXzpMbtwX"
      },
      "source": [
        "# Fim\n",
        "\n",
        "Esses foram os passos para criação de uma rede neural simples para classificação de imagens. Lembrando que para se obter uma melhor eficácia, devem ser adicionadas algumas camadas de Redes Neurais Convolucionais (CNN), que é assunto do próximo curso.\n",
        "\n",
        "-------------------------------------------"
      ]
    }
  ],
  "metadata": {
    "kernelspec": {
      "display_name": "Python 3",
      "language": "python",
      "name": "python3"
    },
    "language_info": {
      "codemirror_mode": {
        "name": "ipython",
        "version": 3
      },
      "file_extension": ".py",
      "mimetype": "text/x-python",
      "name": "python",
      "nbconvert_exporter": "python",
      "pygments_lexer": "ipython3",
      "version": "3.7.3"
    },
    "colab": {
      "provenance": [],
      "include_colab_link": true
    }
  },
  "nbformat": 4,
  "nbformat_minor": 0
}