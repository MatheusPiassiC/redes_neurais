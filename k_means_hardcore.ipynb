{
  "nbformat": 4,
  "nbformat_minor": 0,
  "metadata": {
    "colab": {
      "provenance": [],
      "authorship_tag": "ABX9TyNmYwZgnxMXLFM9hhLWcmcJ",
      "include_colab_link": true
    },
    "kernelspec": {
      "name": "python3",
      "display_name": "Python 3"
    },
    "language_info": {
      "name": "python"
    }
  },
  "cells": [
    {
      "cell_type": "markdown",
      "metadata": {
        "id": "view-in-github",
        "colab_type": "text"
      },
      "source": [
        "<a href=\"https://colab.research.google.com/github/MatheusPiassiC/redes_neurais/blob/main/k_means_hardcore.ipynb\" target=\"_parent\"><img src=\"https://colab.research.google.com/assets/colab-badge.svg\" alt=\"Open In Colab\"/></a>"
      ]
    },
    {
      "cell_type": "markdown",
      "source": [
        "#Implementação hardcore do algoritmo k-means\n",
        "O objetivo deste código é realizar uma implementação manual do algorítmo k-means, sem utilizar bibliotecas que o implementem. Além disso, todo o tratamento dos dados também será feito de forma manual e sem utilizar implementações prontas. Os dados usados serão os do dataset Iris, e o nosso algoritmo deve clusterizar cada entrada."
      ],
      "metadata": {
        "id": "y90BTYdIXmSz"
      }
    },
    {
      "cell_type": "markdown",
      "source": [
        "##Tratamento dos dados\n",
        "A primeira etapa é analisar os dados que usaremos no algoritmo. Para facilitar, o dataset será importado diretamente da biblioteca *Sklearn*."
      ],
      "metadata": {
        "id": "VkWHzwoIYhHI"
      }
    },
    {
      "cell_type": "code",
      "source": [
        "from sklearn import datasets\n",
        "import pandas as pd\n",
        "import numpy as np\n",
        "\n",
        "iris = datasets.load_iris() #guarda apenas os dados numéricos, ou seja, sem a coluna de labels\n",
        "\n",
        "df = pd.DataFrame(data=iris.data, columns=iris.feature_names)\n",
        "X = df.sample(frac=1, random_state=13).reset_index(drop=True) #embaralha o dataframe\n",
        "\n",
        "\n",
        "print(X.head(10))"
      ],
      "metadata": {
        "colab": {
          "base_uri": "https://localhost:8080/"
        },
        "id": "08776B0Ec3Ml",
        "outputId": "88cbcd67-872b-4779-cb35-70b56d6d1be7"
      },
      "execution_count": null,
      "outputs": [
        {
          "output_type": "stream",
          "name": "stdout",
          "text": [
            "   sepal length (cm)  sepal width (cm)  petal length (cm)  petal width (cm)\n",
            "0                5.7               2.8                4.5               1.3\n",
            "1                5.6               2.9                3.6               1.3\n",
            "2                5.1               3.7                1.5               0.4\n",
            "3                5.8               2.7                5.1               1.9\n",
            "4                6.8               3.0                5.5               2.1\n",
            "5                5.5               4.2                1.4               0.2\n",
            "6                7.7               3.0                6.1               2.3\n",
            "7                6.3               2.7                4.9               1.8\n",
            "8                5.1               3.8                1.6               0.2\n",
            "9                5.5               2.6                4.4               1.2\n"
          ]
        }
      ]
    },
    {
      "cell_type": "markdown",
      "source": [
        "Depois disso, o próximo passo é escalonar os dados para que todos os atributos tenham a mesma escala. Para isso, implementaremos uma função para descobrir o mínimo e o máximo do dataframe, e depois aplicaremos escalonamento de fato."
      ],
      "metadata": {
        "id": "ABrGlJllm7cf"
      }
    },
    {
      "cell_type": "code",
      "execution_count": null,
      "metadata": {
        "id": "inhGr1MoWOrk",
        "colab": {
          "base_uri": "https://localhost:8080/"
        },
        "outputId": "2f4f373a-872e-487e-cebe-10755eebd49c"
      },
      "outputs": [
        {
          "output_type": "stream",
          "name": "stdout",
          "text": [
            "   sepal length (cm)  sepal width (cm)  petal length (cm)  petal width (cm)\n",
            "0           0.388889          0.333333           0.593220          0.500000\n",
            "1           0.361111          0.375000           0.440678          0.500000\n",
            "2           0.222222          0.708333           0.084746          0.125000\n",
            "3           0.416667          0.291667           0.694915          0.750000\n",
            "4           0.694444          0.416667           0.762712          0.833333\n",
            "5           0.333333          0.916667           0.067797          0.041667\n",
            "6           0.944444          0.416667           0.864407          0.916667\n",
            "7           0.555556          0.291667           0.661017          0.708333\n",
            "8           0.222222          0.750000           0.101695          0.041667\n",
            "9           0.333333          0.250000           0.576271          0.458333\n",
            "(150, 4)\n"
          ]
        }
      ],
      "source": [
        "def calcular_min_max_params(X: pd.DataFrame): #descobre o min-max de um conjunto\n",
        "    params = {}\n",
        "    for col in X.columns:\n",
        "        min_val = X[col].min()\n",
        "        max_val = X[col].max()\n",
        "        params[col] = (min_val, max_val)\n",
        "    return params\n",
        "\n",
        "def aplicar_min_max_scaling(X: pd.DataFrame, params: dict) -> pd.DataFrame: #normalização usando mim-max\n",
        "    X_scaled = X.copy()\n",
        "    for col, (min_val, max_val) in params.items():\n",
        "        X_scaled[col] = (X[col] - min_val) / (max_val - min_val)\n",
        "    return X_scaled\n",
        "\n",
        "min_max = calcular_min_max_params(X)\n",
        "X = aplicar_min_max_scaling(X, min_max)\n",
        "print(X.head(10))\n",
        "print(X.shape)"
      ]
    },
    {
      "cell_type": "markdown",
      "source": [
        "##Classe K-Means\n",
        "A próxima estapa é criar uma classe para o k-means, para facilitar a implementação e ajudar na organização do código."
      ],
      "metadata": {
        "id": "S9-0PEWuo5w-"
      }
    },
    {
      "cell_type": "code",
      "source": [
        "class K_Means_Manual:\n",
        "  def __init__(self, k: int = 3, max_iter: int = 100):\n",
        "    self.k = k\n",
        "    self.max_iter = max_iter\n",
        "\n",
        "    self.centroids = np.array([])\n",
        "    self.labels = np.array([])\n",
        "\n",
        "  def inicializar_centroids(self, X:pd.DataFrame):\n",
        "    np.random.seed(13)\n",
        "    indices = np.random.choice(X.shape[0], self.k, replace = False) #escolhe k indices no dataframe para serem os primeiros centroides\n",
        "    return X.iloc[indices] #retorna os centroides\n",
        "\n",
        "  def atribuir_cluster(self, X: pd.DataFrame):\n",
        "    ks = self.centroids.shape[0]\n",
        "    distancias = np.zeros((X.shape[0], ks))\n",
        "\n",
        "    for j in range(ks): #calcula a distância euclidiana de cada instância em X em relação aos centroides\n",
        "      diferenca = X - self.centroids.iloc[j]\n",
        "      distancias[:,j] = np.linalg.norm(diferenca, axis=1) #preenche todas as linhas da coluna j com a distância euclidiana\n",
        "\n",
        "    clusters = np.argmin(distancias, axis=1)\n",
        "    return clusters\n",
        "\n",
        "  def recalcular_centroides(self, X: pd.DataFrame, X_clusters: pd.DataFrame):\n",
        "    novos_centroides = np.zeros((self.k, X.shape[1]))\n",
        "    for j in range(self.k):\n",
        "      novos_centroides[j] = X[X_clusters == j].mean(axis=0)\n",
        "    return novos_centroides\n",
        "\n",
        "  def calcular_inercia(self, X, clusters):\n",
        "    inercia = 0\n",
        "    for j in range(self.k):\n",
        "        pontos_cluster = X[clusters == j]\n",
        "        if len(pontos_cluster) > 0:\n",
        "            distancias = np.linalg.norm(pontos_cluster - self.centroids.iloc[j].values, axis=1)\n",
        "            inercia += np.sum(distancias ** 2)\n",
        "    return inercia\n",
        "\n",
        "  def treinar(self, X: pd.DataFrame):\n",
        "    self.centroids = self.inicializar_centroids(X)\n",
        "    for i in range(self.max_iter):\n",
        "        X_clusters = self.atribuir_cluster(X)\n",
        "        novos_centroides = self.recalcular_centroides(X, X_clusters)\n",
        "\n",
        "        if np.allclose(self.centroids, novos_centroides):\n",
        "            print(\"Convergência alcançada na iteração:\", i+1)\n",
        "            break\n",
        "\n",
        "        self.centroids = pd.DataFrame(novos_centroides, columns=X.columns)\n",
        "        print(\"Distribuição dos pontos por cluster:\", np.bincount(X_clusters))\n",
        "\n",
        "    # --- métricas finais ---\n",
        "    self.labels = self.atribuir_cluster(X)\n",
        "    inercia = self.calcular_inercia(X.values, self.labels)\n",
        "\n",
        "    print(\"\\nRelatório de Convergência:\")\n",
        "    print(f\"- Iterações necessárias: {i+1}\")\n",
        "    print(f\"- Inércia final (Soma dos Erros Quadráticos): {inercia:.4f}\")\n",
        "    print(\"\\nCentroides finais (por feature):\")\n",
        "    print(self.centroids.round(4))\n",
        "\n",
        "  def prever(self, X: pd.DataFrame):\n",
        "    X_clusters = self.atribuir_cluster(X)\n",
        "    return X_clusters"
      ],
      "metadata": {
        "id": "b4_yi3DsqDIn"
      },
      "execution_count": null,
      "outputs": []
    },
    {
      "cell_type": "markdown",
      "source": [
        "##Resultados + plotagem do gráfico 3D usando PCA"
      ],
      "metadata": {
        "id": "GicqWwhr7C27"
      }
    },
    {
      "cell_type": "code",
      "source": [
        "import plotly.express as px\n",
        "from sklearn.decomposition import PCA\n",
        "from sklearn.metrics import silhouette_score\n",
        "\n",
        "def plot_clusters_pca_3d_interativo(X, clusters, centroids):\n",
        "    # Reduz para 3 dimensões com PCA\n",
        "    pca = PCA(n_components=3)\n",
        "    X_pca = pca.fit_transform(X)\n",
        "    centroids_pca = pca.transform(centroids)\n",
        "\n",
        "    # Criar DataFrame com clusters\n",
        "    import pandas as pd\n",
        "    df = pd.DataFrame(X_pca, columns=[\"PC1\", \"PC2\", \"PC3\"])\n",
        "    df[\"Cluster\"] = clusters\n",
        "\n",
        "    fig = px.scatter_3d(df, x=\"PC1\", y=\"PC2\", z=\"PC3\",\n",
        "                        color=\"Cluster\", opacity=0.7)\n",
        "\n",
        "    # Adicionar centroides em vermelho\n",
        "    fig.add_scatter3d(\n",
        "        x=centroids_pca[:,0], y=centroids_pca[:,1], z=centroids_pca[:,2],\n",
        "        mode=\"markers\", marker=dict(size=10, color=\"red\", symbol=\"x\"),\n",
        "        name=\"Centroides\"\n",
        "    )\n",
        "\n",
        "    fig.show()\n",
        "\n",
        "print(\"======= K-means para k = 3 ========\")\n",
        "k_means = K_Means_Manual(k = 3)\n",
        "centroids = k_means.treinar(X)\n",
        "clusters_X = k_means.prever(X)\n",
        "print(\"Centroids: \\n\" + str(centroids))\n",
        "print(\"Silhouette score: \" + str(silhouette_score(X, clusters_X)))\n",
        "plot_clusters_pca_3d_interativo(X, clusters_X, k_means.centroids)\n",
        "\n",
        "print(\"======= K-means para k = 5 ========\")\n",
        "k_means2 = K_Means_Manual(k = 5)\n",
        "k_means2.treinar(X)\n",
        "clusters_X2 = k_means2.prever(X)\n",
        "print(\"Silhouette score: \" + str(silhouette_score(X, clusters_X2)))\n",
        "plot_clusters_pca_3d_interativo(X, clusters_X2, k_means2.centroids)\n",
        "\n"
      ],
      "metadata": {
        "colab": {
          "base_uri": "https://localhost:8080/",
          "height": 1000
        },
        "id": "IWx7ccvp1BzI",
        "outputId": "69a39e26-0732-4bd6-b731-3699d21bb50e"
      },
      "execution_count": null,
      "outputs": [
        {
          "output_type": "stream",
          "name": "stdout",
          "text": [
            "======= K-means para k = 3 ========\n",
            "Distribuição dos pontos por cluster: [53 53 44]\n",
            "Distribuição dos pontos por cluster: [41 59 50]\n",
            "Distribuição dos pontos por cluster: [43 57 50]\n",
            "Distribuição dos pontos por cluster: [45 55 50]\n",
            "Distribuição dos pontos por cluster: [46 54 50]\n",
            "Distribuição dos pontos por cluster: [48 52 50]\n",
            "Convergência alcançada na iteração: 7\n",
            "\n",
            "Relatório de Convergência:\n",
            "- Iterações necessárias: 7\n",
            "- Inércia final (Soma dos Erros Quadráticos): 7.1228\n",
            "\n",
            "Centroides finais (por feature):\n",
            "   sepal length (cm)  sepal width (cm)  petal length (cm)  petal width (cm)\n",
            "0             0.4120            0.2769             0.5590            0.5208\n",
            "1             0.6677            0.4431             0.7572            0.7821\n",
            "2             0.1961            0.5950             0.0783            0.0608\n",
            "Centroids: \n",
            "None\n",
            "Silhouette score: 0.4829289335430163\n"
          ]
        },
        {
          "output_type": "display_data",
          "data": {
            "text/html": [
              "<html>\n",
              "<head><meta charset=\"utf-8\" /></head>\n",
              "<body>\n",
              "    <div>            <script src=\"https://cdnjs.cloudflare.com/ajax/libs/mathjax/2.7.5/MathJax.js?config=TeX-AMS-MML_SVG\"></script><script type=\"text/javascript\">if (window.MathJax && window.MathJax.Hub && window.MathJax.Hub.Config) {window.MathJax.Hub.Config({SVG: {font: \"STIX-Web\"}});}</script>                <script type=\"text/javascript\">window.PlotlyConfig = {MathJaxConfig: 'local'};</script>\n",
              "        <script charset=\"utf-8\" src=\"https://cdn.plot.ly/plotly-2.35.2.min.js\"></script>                <div id=\"814abfee-7eeb-4119-8e92-c77bcba09d74\" class=\"plotly-graph-div\" style=\"height:525px; width:100%;\"></div>            <script type=\"text/javascript\">                                    window.PLOTLYENV=window.PLOTLYENV || {};                                    if (document.getElementById(\"814abfee-7eeb-4119-8e92-c77bcba09d74\")) {                    Plotly.newPlot(                        \"814abfee-7eeb-4119-8e92-c77bcba09d74\",                        [{\"hovertemplate\":\"PC1=%{x}\\u003cbr\\u003ePC2=%{y}\\u003cbr\\u003ePC3=%{z}\\u003cbr\\u003eCluster=%{marker.color}\\u003cextra\\u003e\\u003c\\u002fextra\\u003e\",\"legendgroup\":\"\",\"marker\":{\"color\":[0,0,2,0,1,2,1,1,2,0,1,0,0,2,1,2,1,1,0,2,0,2,2,1,0,1,2,1,0,1,1,2,2,1,1,0,2,0,0,2,2,0,0,1,1,1,2,0,2,0,2,0,1,1,2,0,2,0,1,1,2,2,1,1,1,1,2,0,0,1,2,2,2,1,0,0,1,1,0,1,0,0,2,1,1,2,0,1,0,2,2,0,0,2,0,1,2,1,0,2,1,2,2,2,0,2,0,0,1,1,2,0,2,1,0,1,2,1,2,0,2,0,1,2,1,0,1,1,1,1,2,2,0,1,2,2,2,2,0,1,2,1,0,0,1,1,0,2,0,0],\"coloraxis\":\"coloraxis\",\"opacity\":0.7,\"symbol\":\"circle\"},\"mode\":\"markers\",\"name\":\"\",\"scene\":\"scene\",\"showlegend\":false,\"x\":[0.1038310426912501,-0.008260915177083827,-0.5790126750545549,0.34600960858349605,0.5407937764497075,-0.6274553785259608,0.7635079345735885,0.3572352366531637,-0.6286560545936638,0.05543659407732604,0.2925346591728033,0.2911333576252869,0.19561540969619462,-0.5435130371306202,0.4742469476483717,-0.6200996597322073,0.31478381059985305,0.5636212475370375,0.17583338676507032,-0.6756435043172595,0.18676911538836172,-0.5521572267261672,-0.6037992282085829,0.6330436323692095,0.10966425214420172,0.6386515182640258,-0.6003715890013767,0.8721942716082873,0.19255976732664348,0.5434892461418293,0.40658569910783515,-0.6730445443401013,-0.524757301271296,0.5583431388985165,0.4071464972650778,0.13567919708231568,-0.5060938570165961,0.13327214760409778,0.2543452488995587,-0.6616125934478083,-0.6084537799674026,0.3054101311939723,0.06621425473547382,0.5469621225684562,0.42413506155664416,0.7206085411087577,-0.6139765508328793,-0.1534442610188561,-0.7049322386077758,0.2625152345996752,-0.5204834613310042,0.033029374685132895,0.2681683577139121,0.6238196438809096,-0.6456446188852302,-0.021575977562209858,-0.6381847843266268,-0.005608002999631823,0.43772370235738767,0.622771338435538,-0.654152758889205,-0.5140016589867193,0.4177893088039317,0.24485036170039232,0.6089452119831236,0.42467082370225473,-0.6487880559888719,0.13585780418855797,-0.11371032303123829,0.36914899749077357,-0.6092121859663977,-0.5576743002488318,-0.6445537559251889,0.27995176630276153,-0.1715293856132757,-0.0005757570603450723,0.5110202145758134,0.7501225989574094,0.059403013068203725,0.31206632253416,0.3221338320507945,0.2829633719251704,-0.5615278884939867,0.44714261898268903,0.2194854888860842,-0.5902105874078395,0.04906762247876384,0.617986434427958,0.06205022790284376,-0.7519679431888534,-0.6874957069046894,0.2890864808244984,0.015324961909241264,-0.6126178068000326,-0.05892488444518096,0.6138649651099977,-0.6096939959117144,0.5165855429559598,0.046840659339260626,-0.6708791394507782,0.531036705520548,-0.6307029313944523,-0.5352727781994505,-0.6121975551048959,0.06697266073446873,-0.5939323441717616,0.04399281902480734,0.13734837970263747,0.6874909166514087,0.5514616240001935,-0.5974082382364496,0.2889063944857837,-0.6923698848788327,0.2777248031632583,-0.068769750108431,0.5139326307785077,-0.6565377899938517,0.48482666253145723,-0.6257804985628272,0.09882081512553442,-0.6078051870760695,0.36322651407125894,0.5478056435967906,-0.6299445253954573,0.18226693425187346,0.037683926443952576,0.7580304009275327,0.21514137571473935,0.6147331842166546,0.7490260386545562,-0.6187409156993606,-0.7377846616970706,0.2142305990934128,0.2919137819978531,-0.6260483796356325,-0.6389431903256219,-0.6076075792343171,-0.6229049425319907,0.34600960858349605,0.5358713436180824,-0.6695203954179315,0.3222231060173577,0.21396271802060762,0.145033537819376,0.4882075852867702,0.3287049083616427,-0.15863457492328636,-0.5770535929878569,0.15928709254221185,0.03234124191719068],\"y\":[-0.12178174239523809,-0.0866610980849194,0.18106512304301126,-0.15629187416923868,0.06934661651003649,0.4182575078992051,0.16818670320655305,-0.09505686709914912,0.21852691520571554,-0.2191901856206489,-0.016304428359682932,-0.05820854806797526,-0.2385509972798291,0.21463665104733587,-0.12067642259155004,-0.08039705155387789,-0.005572239654220046,0.0305994289351611,-0.0008620375903249933,-0.20070328322726066,-0.049669491590022985,0.5152559821718583,0.10716794139710262,0.0592290939653759,-0.08253797998705253,0.1669001147651099,0.3802406917540804,0.00933798116633966,-0.03955077601609036,-0.05443991036896817,0.061219296550782176,0.34471184605694405,0.10333612638783318,0.12204137407290194,-0.17182087081914926,-0.02329140793642903,0.027947084555768553,-0.059026718407550305,-0.2898153044008607,-0.11560549477402121,0.11831009905532341,-0.1617576437991145,-0.08104611980089671,0.1878124287888281,0.11391405411364752,0.3345803894011449,0.06888917192409505,-0.3788864277611519,-0.08668395211854091,-0.0295800760670325,0.2876272889071766,-0.042970854506661715,0.04727053353352029,0.13976350295032314,-0.06720800972708091,-0.2879701568451171,-0.054487386002151805,-0.23957267179817687,-0.08780497359930794,0.11680726535324104,-0.10288487104909211,0.09213551958050226,-0.026890369006211556,0.13380173302380527,0.08350184430128327,0.03530963099905604,0.13348757590158644,-0.3304625535487094,-0.4939292009541595,0.06434807195275649,0.20539632252802886,0.10210918012477233,-0.01512672529574599,0.17924579011610164,-0.3529767622094258,-0.1423677327515387,-0.13257591538169167,0.15213379990087672,-0.32850227526068587,-0.0311303854022984,-0.14050092419144544,-0.3184437764018034,0.05529016114454055,0.03756001934640507,0.10938392765823524,-0.0945510863158528,-0.17982952491424314,0.10051974054213753,-0.11768797405808579,-0.17131332246991265,0.12214191406459296,-0.16915755292383045,-0.21249450913250006,0.08166824479813439,-0.2865367458080714,0.09300293311920149,-0.4143259573548421,-0.05402994141621048,-0.2531716825777314,-0.06419613262332685,0.16853999057614066,0.1075779103498603,0.2896157239266428,0.21914038833724592,-0.16813234327360216,0.15562387559315294,-0.30615951079513415,-0.020689499785432552,0.49117991612328127,0.059841374067634345,0.21715195331778014,-0.13155070573146332,-0.1620145448014953,0.10590363245261336,-0.18564800737703846,0.09888163229704727,0.010724491106869793,0.1153486581799652,0.05713354113434399,-0.06964200881479315,-0.11642543267953659,-0.24276462451041375,0.15897629898462828,0.020491686877154858,0.1382470211646052,-0.05411301216488262,0.08794536487614302,0.11034892059341328,0.15356601790865065,0.46377839038539936,-0.0676179786798386,0.09055882107973412,0.02066078896971113,0.004049901086402463,0.09643575269163951,0.03259883747055359,0.02952851121768929,-0.10425983293702773,-0.15629187416923868,0.11979098572555302,-0.05141705974928751,0.12736800986353947,0.05996300052700687,-0.07639613445205207,0.14967752131621104,-0.06812375946313509,-0.28913984698833983,0.29370949226379517,0.00021985364307319788,-0.1411407864884779],\"z\":[-0.009691903195092333,-0.05357911343722674,-0.059109824928167326,-0.12191418216777028,-0.012190863569501498,-0.0000872555179664003,0.12198441104347321,0.00041895330117321106,-0.021086495884813164,0.003034339185201282,-0.10220186678221305,0.0650190076747463,0.17818570684359497,-0.068655175267748,-0.2632262049029453,0.01754131190313385,-0.0812634579456672,-0.09376413562085378,0.017224763586704397,-0.03595208020888188,-0.015160248962976575,-0.03827326897297842,-0.006740673385783019,0.1923854663223775,-0.14810214381083148,-0.1736569960231687,0.08516953443733474,0.18697271453381134,0.03235488520378834,-0.0877931639897338,-0.02911053603111073,-0.018961726569299855,0.042394040899718446,-0.06176993552147872,0.004102471205121999,0.07316829383754947,-0.026283018045551318,-0.10845923464874105,0.12257483173019681,0.05478034182843421,0.03965750652548134,0.08444697558804383,-0.027055933323177517,0.12103270453317146,-0.078689607983088,-0.1121214081806895,0.03384921930601923,-0.015400386296345533,-0.07910853654913233,0.0990771455593337,0.07349941478224091,-0.015609329610042424,-0.15004965608642482,-0.08666892342010221,0.06170558330339696,0.049818719450082344,-0.01629331003949465,0.05674396092504497,-0.0007515461704973025,-0.24959195158084796,-0.023218551514457397,-0.10070753267998206,-0.019788701633488878,-0.034974417229890864,0.18624452396546842,0.0047240859115178085,-0.015115524253693169,-0.22806312205757823,0.02887302429940551,0.0642419948708236,0.03145262638336003,0.09554749156015646,0.03870323668163862,0.168708474348446,-0.04923500823897403,0.09605421494968867,0.11778369464802659,0.1586672698893677,0.015146253173230179,-0.11867245859675637,-0.2032639382771637,0.08851669384560942,-0.03577482316896208,-0.0495463190044208,0.1199064152003916,0.07119738842680771,0.05803088590633458,0.05174131719563684,-0.014159720217094857,-0.0476777938432941,-0.009477207760020007,0.10482460124849483,-0.12694750534645768,0.05255371963156396,0.0741615362693001,-0.12128784448078445,0.041371653211443926,-0.062333392915015384,-0.012880081549936362,-0.038348673131541305,-0.07181791172429525,0.01871909768893533,-0.025437887397196587,-0.047663221215032164,-0.018851053181056426,0.09688796175761587,0.2046460066641949,-0.05234573367210699,0.12925215730355472,-0.08628272306648535,0.051274080964405395,-0.005891959781524639,-0.05108220182596579,0.09779750689217506,0.0835442021972229,-0.17265646727728706,-0.09183477892942615,0.19774467289477354,0.014027764724974023,0.06400914385158551,0.0038607996789974813,-0.14028602735586793,-0.24261316488971535,0.026923977831056684,-0.11068585684561127,-0.06200750952130682,0.2330917845237987,0.022086067276454763,-0.06908137735005818,0.04204056875852924,0.03624581222867859,-0.09886915959987688,0.15580497492823242,0.18623518888818913,-0.027679082222328844,-0.024498190181615948,-0.021147327415114034,0.049142025334761225,-0.12191418216777028,-0.0074995306055400945,-0.01964417280599655,0.13967432456526693,0.11409812798092957,0.09728759471480837,-0.23920875690704352,-0.03453262289695597,-0.05241590027968718,-0.02990570441919914,0.11281120299964004,0.04290076428925067],\"type\":\"scatter3d\"},{\"marker\":{\"color\":\"red\",\"size\":10,\"symbol\":\"x\"},\"mode\":\"markers\",\"name\":\"Centroides\",\"x\":[0.1145172619252206,0.48893066703102783,-0.6184244651604811],\"y\":[-0.16112725079724255,0.08278526589831658,0.06858548423110367],\"z\":[0.010815075829239268,-0.009172981368464006,-0.0008425721728673174],\"type\":\"scatter3d\"}],                        {\"template\":{\"data\":{\"histogram2dcontour\":[{\"type\":\"histogram2dcontour\",\"colorbar\":{\"outlinewidth\":0,\"ticks\":\"\"},\"colorscale\":[[0.0,\"#0d0887\"],[0.1111111111111111,\"#46039f\"],[0.2222222222222222,\"#7201a8\"],[0.3333333333333333,\"#9c179e\"],[0.4444444444444444,\"#bd3786\"],[0.5555555555555556,\"#d8576b\"],[0.6666666666666666,\"#ed7953\"],[0.7777777777777778,\"#fb9f3a\"],[0.8888888888888888,\"#fdca26\"],[1.0,\"#f0f921\"]]}],\"choropleth\":[{\"type\":\"choropleth\",\"colorbar\":{\"outlinewidth\":0,\"ticks\":\"\"}}],\"histogram2d\":[{\"type\":\"histogram2d\",\"colorbar\":{\"outlinewidth\":0,\"ticks\":\"\"},\"colorscale\":[[0.0,\"#0d0887\"],[0.1111111111111111,\"#46039f\"],[0.2222222222222222,\"#7201a8\"],[0.3333333333333333,\"#9c179e\"],[0.4444444444444444,\"#bd3786\"],[0.5555555555555556,\"#d8576b\"],[0.6666666666666666,\"#ed7953\"],[0.7777777777777778,\"#fb9f3a\"],[0.8888888888888888,\"#fdca26\"],[1.0,\"#f0f921\"]]}],\"heatmap\":[{\"type\":\"heatmap\",\"colorbar\":{\"outlinewidth\":0,\"ticks\":\"\"},\"colorscale\":[[0.0,\"#0d0887\"],[0.1111111111111111,\"#46039f\"],[0.2222222222222222,\"#7201a8\"],[0.3333333333333333,\"#9c179e\"],[0.4444444444444444,\"#bd3786\"],[0.5555555555555556,\"#d8576b\"],[0.6666666666666666,\"#ed7953\"],[0.7777777777777778,\"#fb9f3a\"],[0.8888888888888888,\"#fdca26\"],[1.0,\"#f0f921\"]]}],\"heatmapgl\":[{\"type\":\"heatmapgl\",\"colorbar\":{\"outlinewidth\":0,\"ticks\":\"\"},\"colorscale\":[[0.0,\"#0d0887\"],[0.1111111111111111,\"#46039f\"],[0.2222222222222222,\"#7201a8\"],[0.3333333333333333,\"#9c179e\"],[0.4444444444444444,\"#bd3786\"],[0.5555555555555556,\"#d8576b\"],[0.6666666666666666,\"#ed7953\"],[0.7777777777777778,\"#fb9f3a\"],[0.8888888888888888,\"#fdca26\"],[1.0,\"#f0f921\"]]}],\"contourcarpet\":[{\"type\":\"contourcarpet\",\"colorbar\":{\"outlinewidth\":0,\"ticks\":\"\"}}],\"contour\":[{\"type\":\"contour\",\"colorbar\":{\"outlinewidth\":0,\"ticks\":\"\"},\"colorscale\":[[0.0,\"#0d0887\"],[0.1111111111111111,\"#46039f\"],[0.2222222222222222,\"#7201a8\"],[0.3333333333333333,\"#9c179e\"],[0.4444444444444444,\"#bd3786\"],[0.5555555555555556,\"#d8576b\"],[0.6666666666666666,\"#ed7953\"],[0.7777777777777778,\"#fb9f3a\"],[0.8888888888888888,\"#fdca26\"],[1.0,\"#f0f921\"]]}],\"surface\":[{\"type\":\"surface\",\"colorbar\":{\"outlinewidth\":0,\"ticks\":\"\"},\"colorscale\":[[0.0,\"#0d0887\"],[0.1111111111111111,\"#46039f\"],[0.2222222222222222,\"#7201a8\"],[0.3333333333333333,\"#9c179e\"],[0.4444444444444444,\"#bd3786\"],[0.5555555555555556,\"#d8576b\"],[0.6666666666666666,\"#ed7953\"],[0.7777777777777778,\"#fb9f3a\"],[0.8888888888888888,\"#fdca26\"],[1.0,\"#f0f921\"]]}],\"mesh3d\":[{\"type\":\"mesh3d\",\"colorbar\":{\"outlinewidth\":0,\"ticks\":\"\"}}],\"scatter\":[{\"fillpattern\":{\"fillmode\":\"overlay\",\"size\":10,\"solidity\":0.2},\"type\":\"scatter\"}],\"parcoords\":[{\"type\":\"parcoords\",\"line\":{\"colorbar\":{\"outlinewidth\":0,\"ticks\":\"\"}}}],\"scatterpolargl\":[{\"type\":\"scatterpolargl\",\"marker\":{\"colorbar\":{\"outlinewidth\":0,\"ticks\":\"\"}}}],\"bar\":[{\"error_x\":{\"color\":\"#2a3f5f\"},\"error_y\":{\"color\":\"#2a3f5f\"},\"marker\":{\"line\":{\"color\":\"#E5ECF6\",\"width\":0.5},\"pattern\":{\"fillmode\":\"overlay\",\"size\":10,\"solidity\":0.2}},\"type\":\"bar\"}],\"scattergeo\":[{\"type\":\"scattergeo\",\"marker\":{\"colorbar\":{\"outlinewidth\":0,\"ticks\":\"\"}}}],\"scatterpolar\":[{\"type\":\"scatterpolar\",\"marker\":{\"colorbar\":{\"outlinewidth\":0,\"ticks\":\"\"}}}],\"histogram\":[{\"marker\":{\"pattern\":{\"fillmode\":\"overlay\",\"size\":10,\"solidity\":0.2}},\"type\":\"histogram\"}],\"scattergl\":[{\"type\":\"scattergl\",\"marker\":{\"colorbar\":{\"outlinewidth\":0,\"ticks\":\"\"}}}],\"scatter3d\":[{\"type\":\"scatter3d\",\"line\":{\"colorbar\":{\"outlinewidth\":0,\"ticks\":\"\"}},\"marker\":{\"colorbar\":{\"outlinewidth\":0,\"ticks\":\"\"}}}],\"scattermapbox\":[{\"type\":\"scattermapbox\",\"marker\":{\"colorbar\":{\"outlinewidth\":0,\"ticks\":\"\"}}}],\"scatterternary\":[{\"type\":\"scatterternary\",\"marker\":{\"colorbar\":{\"outlinewidth\":0,\"ticks\":\"\"}}}],\"scattercarpet\":[{\"type\":\"scattercarpet\",\"marker\":{\"colorbar\":{\"outlinewidth\":0,\"ticks\":\"\"}}}],\"carpet\":[{\"aaxis\":{\"endlinecolor\":\"#2a3f5f\",\"gridcolor\":\"white\",\"linecolor\":\"white\",\"minorgridcolor\":\"white\",\"startlinecolor\":\"#2a3f5f\"},\"baxis\":{\"endlinecolor\":\"#2a3f5f\",\"gridcolor\":\"white\",\"linecolor\":\"white\",\"minorgridcolor\":\"white\",\"startlinecolor\":\"#2a3f5f\"},\"type\":\"carpet\"}],\"table\":[{\"cells\":{\"fill\":{\"color\":\"#EBF0F8\"},\"line\":{\"color\":\"white\"}},\"header\":{\"fill\":{\"color\":\"#C8D4E3\"},\"line\":{\"color\":\"white\"}},\"type\":\"table\"}],\"barpolar\":[{\"marker\":{\"line\":{\"color\":\"#E5ECF6\",\"width\":0.5},\"pattern\":{\"fillmode\":\"overlay\",\"size\":10,\"solidity\":0.2}},\"type\":\"barpolar\"}],\"pie\":[{\"automargin\":true,\"type\":\"pie\"}]},\"layout\":{\"autotypenumbers\":\"strict\",\"colorway\":[\"#636efa\",\"#EF553B\",\"#00cc96\",\"#ab63fa\",\"#FFA15A\",\"#19d3f3\",\"#FF6692\",\"#B6E880\",\"#FF97FF\",\"#FECB52\"],\"font\":{\"color\":\"#2a3f5f\"},\"hovermode\":\"closest\",\"hoverlabel\":{\"align\":\"left\"},\"paper_bgcolor\":\"white\",\"plot_bgcolor\":\"#E5ECF6\",\"polar\":{\"bgcolor\":\"#E5ECF6\",\"angularaxis\":{\"gridcolor\":\"white\",\"linecolor\":\"white\",\"ticks\":\"\"},\"radialaxis\":{\"gridcolor\":\"white\",\"linecolor\":\"white\",\"ticks\":\"\"}},\"ternary\":{\"bgcolor\":\"#E5ECF6\",\"aaxis\":{\"gridcolor\":\"white\",\"linecolor\":\"white\",\"ticks\":\"\"},\"baxis\":{\"gridcolor\":\"white\",\"linecolor\":\"white\",\"ticks\":\"\"},\"caxis\":{\"gridcolor\":\"white\",\"linecolor\":\"white\",\"ticks\":\"\"}},\"coloraxis\":{\"colorbar\":{\"outlinewidth\":0,\"ticks\":\"\"}},\"colorscale\":{\"sequential\":[[0.0,\"#0d0887\"],[0.1111111111111111,\"#46039f\"],[0.2222222222222222,\"#7201a8\"],[0.3333333333333333,\"#9c179e\"],[0.4444444444444444,\"#bd3786\"],[0.5555555555555556,\"#d8576b\"],[0.6666666666666666,\"#ed7953\"],[0.7777777777777778,\"#fb9f3a\"],[0.8888888888888888,\"#fdca26\"],[1.0,\"#f0f921\"]],\"sequentialminus\":[[0.0,\"#0d0887\"],[0.1111111111111111,\"#46039f\"],[0.2222222222222222,\"#7201a8\"],[0.3333333333333333,\"#9c179e\"],[0.4444444444444444,\"#bd3786\"],[0.5555555555555556,\"#d8576b\"],[0.6666666666666666,\"#ed7953\"],[0.7777777777777778,\"#fb9f3a\"],[0.8888888888888888,\"#fdca26\"],[1.0,\"#f0f921\"]],\"diverging\":[[0,\"#8e0152\"],[0.1,\"#c51b7d\"],[0.2,\"#de77ae\"],[0.3,\"#f1b6da\"],[0.4,\"#fde0ef\"],[0.5,\"#f7f7f7\"],[0.6,\"#e6f5d0\"],[0.7,\"#b8e186\"],[0.8,\"#7fbc41\"],[0.9,\"#4d9221\"],[1,\"#276419\"]]},\"xaxis\":{\"gridcolor\":\"white\",\"linecolor\":\"white\",\"ticks\":\"\",\"title\":{\"standoff\":15},\"zerolinecolor\":\"white\",\"automargin\":true,\"zerolinewidth\":2},\"yaxis\":{\"gridcolor\":\"white\",\"linecolor\":\"white\",\"ticks\":\"\",\"title\":{\"standoff\":15},\"zerolinecolor\":\"white\",\"automargin\":true,\"zerolinewidth\":2},\"scene\":{\"xaxis\":{\"backgroundcolor\":\"#E5ECF6\",\"gridcolor\":\"white\",\"linecolor\":\"white\",\"showbackground\":true,\"ticks\":\"\",\"zerolinecolor\":\"white\",\"gridwidth\":2},\"yaxis\":{\"backgroundcolor\":\"#E5ECF6\",\"gridcolor\":\"white\",\"linecolor\":\"white\",\"showbackground\":true,\"ticks\":\"\",\"zerolinecolor\":\"white\",\"gridwidth\":2},\"zaxis\":{\"backgroundcolor\":\"#E5ECF6\",\"gridcolor\":\"white\",\"linecolor\":\"white\",\"showbackground\":true,\"ticks\":\"\",\"zerolinecolor\":\"white\",\"gridwidth\":2}},\"shapedefaults\":{\"line\":{\"color\":\"#2a3f5f\"}},\"annotationdefaults\":{\"arrowcolor\":\"#2a3f5f\",\"arrowhead\":0,\"arrowwidth\":1},\"geo\":{\"bgcolor\":\"white\",\"landcolor\":\"#E5ECF6\",\"subunitcolor\":\"white\",\"showland\":true,\"showlakes\":true,\"lakecolor\":\"white\"},\"title\":{\"x\":0.05},\"mapbox\":{\"style\":\"light\"}}},\"scene\":{\"domain\":{\"x\":[0.0,1.0],\"y\":[0.0,1.0]},\"xaxis\":{\"title\":{\"text\":\"PC1\"}},\"yaxis\":{\"title\":{\"text\":\"PC2\"}},\"zaxis\":{\"title\":{\"text\":\"PC3\"}}},\"coloraxis\":{\"colorbar\":{\"title\":{\"text\":\"Cluster\"}},\"colorscale\":[[0.0,\"#0d0887\"],[0.1111111111111111,\"#46039f\"],[0.2222222222222222,\"#7201a8\"],[0.3333333333333333,\"#9c179e\"],[0.4444444444444444,\"#bd3786\"],[0.5555555555555556,\"#d8576b\"],[0.6666666666666666,\"#ed7953\"],[0.7777777777777778,\"#fb9f3a\"],[0.8888888888888888,\"#fdca26\"],[1.0,\"#f0f921\"]]},\"legend\":{\"tracegroupgap\":0},\"margin\":{\"t\":60}},                        {\"responsive\": true}                    ).then(function(){\n",
              "                            \n",
              "var gd = document.getElementById('814abfee-7eeb-4119-8e92-c77bcba09d74');\n",
              "var x = new MutationObserver(function (mutations, observer) {{\n",
              "        var display = window.getComputedStyle(gd).display;\n",
              "        if (!display || display === 'none') {{\n",
              "            console.log([gd, 'removed!']);\n",
              "            Plotly.purge(gd);\n",
              "            observer.disconnect();\n",
              "        }}\n",
              "}});\n",
              "\n",
              "// Listen for the removal of the full notebook cells\n",
              "var notebookContainer = gd.closest('#notebook-container');\n",
              "if (notebookContainer) {{\n",
              "    x.observe(notebookContainer, {childList: true});\n",
              "}}\n",
              "\n",
              "// Listen for the clearing of the current output cell\n",
              "var outputEl = gd.closest('.output');\n",
              "if (outputEl) {{\n",
              "    x.observe(outputEl, {childList: true});\n",
              "}}\n",
              "\n",
              "                        })                };                            </script>        </div>\n",
              "</body>\n",
              "</html>"
            ]
          },
          "metadata": {}
        },
        {
          "output_type": "stream",
          "name": "stdout",
          "text": [
            "======= K-means para k = 5 ========\n",
            "Distribuição dos pontos por cluster: [47 53  4 30 16]\n",
            "Distribuição dos pontos por cluster: [49 51  7 26 17]\n",
            "Convergência alcançada na iteração: 3\n",
            "\n",
            "Relatório de Convergência:\n",
            "- Iterações necessárias: 3\n",
            "- Inércia final (Soma dos Erros Quadráticos): 5.8621\n",
            "\n",
            "Centroides finais (por feature):\n",
            "   sepal length (cm)  sepal width (cm)  petal length (cm)  petal width (cm)\n",
            "0             0.4133            0.2832             0.5597            0.5230\n",
            "1             0.6716            0.4404             0.7604            0.7851\n",
            "2             0.3413            0.8512             0.0799            0.0774\n",
            "3             0.2147            0.6330             0.0847            0.0705\n",
            "4             0.1078            0.4314             0.0678            0.0392\n",
            "Silhouette score: 0.37392801075901627\n"
          ]
        },
        {
          "output_type": "display_data",
          "data": {
            "text/html": [
              "<html>\n",
              "<head><meta charset=\"utf-8\" /></head>\n",
              "<body>\n",
              "    <div>            <script src=\"https://cdnjs.cloudflare.com/ajax/libs/mathjax/2.7.5/MathJax.js?config=TeX-AMS-MML_SVG\"></script><script type=\"text/javascript\">if (window.MathJax && window.MathJax.Hub && window.MathJax.Hub.Config) {window.MathJax.Hub.Config({SVG: {font: \"STIX-Web\"}});}</script>                <script type=\"text/javascript\">window.PlotlyConfig = {MathJaxConfig: 'local'};</script>\n",
              "        <script charset=\"utf-8\" src=\"https://cdn.plot.ly/plotly-2.35.2.min.js\"></script>                <div id=\"5a343d38-13f8-49da-8dc2-736e744bd0ec\" class=\"plotly-graph-div\" style=\"height:525px; width:100%;\"></div>            <script type=\"text/javascript\">                                    window.PLOTLYENV=window.PLOTLYENV || {};                                    if (document.getElementById(\"5a343d38-13f8-49da-8dc2-736e744bd0ec\")) {                    Plotly.newPlot(                        \"5a343d38-13f8-49da-8dc2-736e744bd0ec\",                        [{\"hovertemplate\":\"PC1=%{x}\\u003cbr\\u003ePC2=%{y}\\u003cbr\\u003ePC3=%{z}\\u003cbr\\u003eCluster=%{marker.color}\\u003cextra\\u003e\\u003c\\u002fextra\\u003e\",\"legendgroup\":\"\",\"marker\":{\"color\":[0,0,3,0,1,2,1,1,3,0,1,0,0,3,1,4,1,1,0,4,0,2,3,1,0,1,2,1,0,1,1,2,3,1,1,0,3,0,0,4,3,0,0,1,1,1,3,0,4,0,2,0,1,1,4,0,4,0,1,1,4,3,1,1,1,1,3,0,0,1,3,3,4,1,0,0,1,1,0,1,0,0,3,1,1,4,0,1,0,4,3,0,0,3,0,1,4,1,0,4,1,3,2,3,0,3,0,0,1,1,3,0,4,1,0,1,3,1,3,0,4,0,1,3,0,0,1,1,1,1,4,3,0,1,3,3,3,4,0,1,4,1,0,0,1,1,0,2,0,0],\"coloraxis\":\"coloraxis\",\"opacity\":0.7,\"symbol\":\"circle\"},\"mode\":\"markers\",\"name\":\"\",\"scene\":\"scene\",\"showlegend\":false,\"x\":[0.1038310426912501,-0.008260915177083827,-0.5790126750545549,0.34600960858349605,0.5407937764497075,-0.6274553785259608,0.7635079345735885,0.3572352366531637,-0.6286560545936638,0.05543659407732604,0.2925346591728033,0.2911333576252869,0.19561540969619462,-0.5435130371306202,0.4742469476483717,-0.6200996597322073,0.31478381059985305,0.5636212475370375,0.17583338676507032,-0.6756435043172595,0.18676911538836172,-0.5521572267261672,-0.6037992282085829,0.6330436323692095,0.10966425214420172,0.6386515182640258,-0.6003715890013767,0.8721942716082873,0.19255976732664348,0.5434892461418293,0.40658569910783515,-0.6730445443401013,-0.524757301271296,0.5583431388985165,0.4071464972650778,0.13567919708231568,-0.5060938570165961,0.13327214760409778,0.2543452488995587,-0.6616125934478083,-0.6084537799674026,0.3054101311939723,0.06621425473547382,0.5469621225684562,0.42413506155664416,0.7206085411087577,-0.6139765508328793,-0.1534442610188561,-0.7049322386077758,0.2625152345996752,-0.5204834613310042,0.033029374685132895,0.2681683577139121,0.6238196438809096,-0.6456446188852302,-0.021575977562209858,-0.6381847843266268,-0.005608002999631823,0.43772370235738767,0.622771338435538,-0.654152758889205,-0.5140016589867193,0.4177893088039317,0.24485036170039232,0.6089452119831236,0.42467082370225473,-0.6487880559888719,0.13585780418855797,-0.11371032303123829,0.36914899749077357,-0.6092121859663977,-0.5576743002488318,-0.6445537559251889,0.27995176630276153,-0.1715293856132757,-0.0005757570603450723,0.5110202145758134,0.7501225989574094,0.059403013068203725,0.31206632253416,0.3221338320507945,0.2829633719251704,-0.5615278884939867,0.44714261898268903,0.2194854888860842,-0.5902105874078395,0.04906762247876384,0.617986434427958,0.06205022790284376,-0.7519679431888534,-0.6874957069046894,0.2890864808244984,0.015324961909241264,-0.6126178068000326,-0.05892488444518096,0.6138649651099977,-0.6096939959117144,0.5165855429559598,0.046840659339260626,-0.6708791394507782,0.531036705520548,-0.6307029313944523,-0.5352727781994505,-0.6121975551048959,0.06697266073446873,-0.5939323441717616,0.04399281902480734,0.13734837970263747,0.6874909166514087,0.5514616240001935,-0.5974082382364496,0.2889063944857837,-0.6923698848788327,0.2777248031632583,-0.068769750108431,0.5139326307785077,-0.6565377899938517,0.48482666253145723,-0.6257804985628272,0.09882081512553442,-0.6078051870760695,0.36322651407125894,0.5478056435967906,-0.6299445253954573,0.18226693425187346,0.037683926443952576,0.7580304009275327,0.21514137571473935,0.6147331842166546,0.7490260386545562,-0.6187409156993606,-0.7377846616970706,0.2142305990934128,0.2919137819978531,-0.6260483796356325,-0.6389431903256219,-0.6076075792343171,-0.6229049425319907,0.34600960858349605,0.5358713436180824,-0.6695203954179315,0.3222231060173577,0.21396271802060762,0.145033537819376,0.4882075852867702,0.3287049083616427,-0.15863457492328636,-0.5770535929878569,0.15928709254221185,0.03234124191719068],\"y\":[-0.12178174239523809,-0.0866610980849194,0.18106512304301126,-0.15629187416923868,0.06934661651003649,0.4182575078992051,0.16818670320655305,-0.09505686709914912,0.21852691520571554,-0.2191901856206489,-0.016304428359682932,-0.05820854806797526,-0.2385509972798291,0.21463665104733587,-0.12067642259155004,-0.08039705155387789,-0.005572239654220046,0.0305994289351611,-0.0008620375903249933,-0.20070328322726066,-0.049669491590022985,0.5152559821718583,0.10716794139710262,0.0592290939653759,-0.08253797998705253,0.1669001147651099,0.3802406917540804,0.00933798116633966,-0.03955077601609036,-0.05443991036896817,0.061219296550782176,0.34471184605694405,0.10333612638783318,0.12204137407290194,-0.17182087081914926,-0.02329140793642903,0.027947084555768553,-0.059026718407550305,-0.2898153044008607,-0.11560549477402121,0.11831009905532341,-0.1617576437991145,-0.08104611980089671,0.1878124287888281,0.11391405411364752,0.3345803894011449,0.06888917192409505,-0.3788864277611519,-0.08668395211854091,-0.0295800760670325,0.2876272889071766,-0.042970854506661715,0.04727053353352029,0.13976350295032314,-0.06720800972708091,-0.2879701568451171,-0.054487386002151805,-0.23957267179817687,-0.08780497359930794,0.11680726535324104,-0.10288487104909211,0.09213551958050226,-0.026890369006211556,0.13380173302380527,0.08350184430128327,0.03530963099905604,0.13348757590158644,-0.3304625535487094,-0.4939292009541595,0.06434807195275649,0.20539632252802886,0.10210918012477233,-0.01512672529574599,0.17924579011610164,-0.3529767622094258,-0.1423677327515387,-0.13257591538169167,0.15213379990087672,-0.32850227526068587,-0.0311303854022984,-0.14050092419144544,-0.3184437764018034,0.05529016114454055,0.03756001934640507,0.10938392765823524,-0.0945510863158528,-0.17982952491424314,0.10051974054213753,-0.11768797405808579,-0.17131332246991265,0.12214191406459296,-0.16915755292383045,-0.21249450913250006,0.08166824479813439,-0.2865367458080714,0.09300293311920149,-0.4143259573548421,-0.05402994141621048,-0.2531716825777314,-0.06419613262332685,0.16853999057614066,0.1075779103498603,0.2896157239266428,0.21914038833724592,-0.16813234327360216,0.15562387559315294,-0.30615951079513415,-0.020689499785432552,0.49117991612328127,0.059841374067634345,0.21715195331778014,-0.13155070573146332,-0.1620145448014953,0.10590363245261336,-0.18564800737703846,0.09888163229704727,0.010724491106869793,0.1153486581799652,0.05713354113434399,-0.06964200881479315,-0.11642543267953659,-0.24276462451041375,0.15897629898462828,0.020491686877154858,0.1382470211646052,-0.05411301216488262,0.08794536487614302,0.11034892059341328,0.15356601790865065,0.46377839038539936,-0.0676179786798386,0.09055882107973412,0.02066078896971113,0.004049901086402463,0.09643575269163951,0.03259883747055359,0.02952851121768929,-0.10425983293702773,-0.15629187416923868,0.11979098572555302,-0.05141705974928751,0.12736800986353947,0.05996300052700687,-0.07639613445205207,0.14967752131621104,-0.06812375946313509,-0.28913984698833983,0.29370949226379517,0.00021985364307319788,-0.1411407864884779],\"z\":[-0.009691903195092333,-0.05357911343722674,-0.059109824928167326,-0.12191418216777028,-0.012190863569501498,-0.0000872555179664003,0.12198441104347321,0.00041895330117321106,-0.021086495884813164,0.003034339185201282,-0.10220186678221305,0.0650190076747463,0.17818570684359497,-0.068655175267748,-0.2632262049029453,0.01754131190313385,-0.0812634579456672,-0.09376413562085378,0.017224763586704397,-0.03595208020888188,-0.015160248962976575,-0.03827326897297842,-0.006740673385783019,0.1923854663223775,-0.14810214381083148,-0.1736569960231687,0.08516953443733474,0.18697271453381134,0.03235488520378834,-0.0877931639897338,-0.02911053603111073,-0.018961726569299855,0.042394040899718446,-0.06176993552147872,0.004102471205121999,0.07316829383754947,-0.026283018045551318,-0.10845923464874105,0.12257483173019681,0.05478034182843421,0.03965750652548134,0.08444697558804383,-0.027055933323177517,0.12103270453317146,-0.078689607983088,-0.1121214081806895,0.03384921930601923,-0.015400386296345533,-0.07910853654913233,0.0990771455593337,0.07349941478224091,-0.015609329610042424,-0.15004965608642482,-0.08666892342010221,0.06170558330339696,0.049818719450082344,-0.01629331003949465,0.05674396092504497,-0.0007515461704973025,-0.24959195158084796,-0.023218551514457397,-0.10070753267998206,-0.019788701633488878,-0.034974417229890864,0.18624452396546842,0.0047240859115178085,-0.015115524253693169,-0.22806312205757823,0.02887302429940551,0.0642419948708236,0.03145262638336003,0.09554749156015646,0.03870323668163862,0.168708474348446,-0.04923500823897403,0.09605421494968867,0.11778369464802659,0.1586672698893677,0.015146253173230179,-0.11867245859675637,-0.2032639382771637,0.08851669384560942,-0.03577482316896208,-0.0495463190044208,0.1199064152003916,0.07119738842680771,0.05803088590633458,0.05174131719563684,-0.014159720217094857,-0.0476777938432941,-0.009477207760020007,0.10482460124849483,-0.12694750534645768,0.05255371963156396,0.0741615362693001,-0.12128784448078445,0.041371653211443926,-0.062333392915015384,-0.012880081549936362,-0.038348673131541305,-0.07181791172429525,0.01871909768893533,-0.025437887397196587,-0.047663221215032164,-0.018851053181056426,0.09688796175761587,0.2046460066641949,-0.05234573367210699,0.12925215730355472,-0.08628272306648535,0.051274080964405395,-0.005891959781524639,-0.05108220182596579,0.09779750689217506,0.0835442021972229,-0.17265646727728706,-0.09183477892942615,0.19774467289477354,0.014027764724974023,0.06400914385158551,0.0038607996789974813,-0.14028602735586793,-0.24261316488971535,0.026923977831056684,-0.11068585684561127,-0.06200750952130682,0.2330917845237987,0.022086067276454763,-0.06908137735005818,0.04204056875852924,0.03624581222867859,-0.09886915959987688,0.15580497492823242,0.18623518888818913,-0.027679082222328844,-0.024498190181615948,-0.021147327415114034,0.049142025334761225,-0.12191418216777028,-0.0074995306055400945,-0.01964417280599655,0.13967432456526693,0.11409812798092957,0.09728759471480837,-0.23920875690704352,-0.03453262289695597,-0.05241590027968718,-0.02990570441919914,0.11281120299964004,0.04290076428925067],\"type\":\"scatter3d\"},{\"marker\":{\"color\":\"red\",\"size\":10,\"symbol\":\"x\"},\"mode\":\"markers\",\"name\":\"Centroides\",\"x\":[0.11589990829923391,0.4949436813992465,-0.5836912244445597,-0.606017991585287,-0.6517009944526277],\"y\":[-0.15501757177761294,0.08169778050093846,0.36134550471138605,0.11034899230516815,-0.11583636007993481],\"z\":[0.008335464958323963,-0.007182532829696345,0.006571872334705062,-0.005821328756339519,0.0037189901575604978],\"type\":\"scatter3d\"}],                        {\"template\":{\"data\":{\"histogram2dcontour\":[{\"type\":\"histogram2dcontour\",\"colorbar\":{\"outlinewidth\":0,\"ticks\":\"\"},\"colorscale\":[[0.0,\"#0d0887\"],[0.1111111111111111,\"#46039f\"],[0.2222222222222222,\"#7201a8\"],[0.3333333333333333,\"#9c179e\"],[0.4444444444444444,\"#bd3786\"],[0.5555555555555556,\"#d8576b\"],[0.6666666666666666,\"#ed7953\"],[0.7777777777777778,\"#fb9f3a\"],[0.8888888888888888,\"#fdca26\"],[1.0,\"#f0f921\"]]}],\"choropleth\":[{\"type\":\"choropleth\",\"colorbar\":{\"outlinewidth\":0,\"ticks\":\"\"}}],\"histogram2d\":[{\"type\":\"histogram2d\",\"colorbar\":{\"outlinewidth\":0,\"ticks\":\"\"},\"colorscale\":[[0.0,\"#0d0887\"],[0.1111111111111111,\"#46039f\"],[0.2222222222222222,\"#7201a8\"],[0.3333333333333333,\"#9c179e\"],[0.4444444444444444,\"#bd3786\"],[0.5555555555555556,\"#d8576b\"],[0.6666666666666666,\"#ed7953\"],[0.7777777777777778,\"#fb9f3a\"],[0.8888888888888888,\"#fdca26\"],[1.0,\"#f0f921\"]]}],\"heatmap\":[{\"type\":\"heatmap\",\"colorbar\":{\"outlinewidth\":0,\"ticks\":\"\"},\"colorscale\":[[0.0,\"#0d0887\"],[0.1111111111111111,\"#46039f\"],[0.2222222222222222,\"#7201a8\"],[0.3333333333333333,\"#9c179e\"],[0.4444444444444444,\"#bd3786\"],[0.5555555555555556,\"#d8576b\"],[0.6666666666666666,\"#ed7953\"],[0.7777777777777778,\"#fb9f3a\"],[0.8888888888888888,\"#fdca26\"],[1.0,\"#f0f921\"]]}],\"heatmapgl\":[{\"type\":\"heatmapgl\",\"colorbar\":{\"outlinewidth\":0,\"ticks\":\"\"},\"colorscale\":[[0.0,\"#0d0887\"],[0.1111111111111111,\"#46039f\"],[0.2222222222222222,\"#7201a8\"],[0.3333333333333333,\"#9c179e\"],[0.4444444444444444,\"#bd3786\"],[0.5555555555555556,\"#d8576b\"],[0.6666666666666666,\"#ed7953\"],[0.7777777777777778,\"#fb9f3a\"],[0.8888888888888888,\"#fdca26\"],[1.0,\"#f0f921\"]]}],\"contourcarpet\":[{\"type\":\"contourcarpet\",\"colorbar\":{\"outlinewidth\":0,\"ticks\":\"\"}}],\"contour\":[{\"type\":\"contour\",\"colorbar\":{\"outlinewidth\":0,\"ticks\":\"\"},\"colorscale\":[[0.0,\"#0d0887\"],[0.1111111111111111,\"#46039f\"],[0.2222222222222222,\"#7201a8\"],[0.3333333333333333,\"#9c179e\"],[0.4444444444444444,\"#bd3786\"],[0.5555555555555556,\"#d8576b\"],[0.6666666666666666,\"#ed7953\"],[0.7777777777777778,\"#fb9f3a\"],[0.8888888888888888,\"#fdca26\"],[1.0,\"#f0f921\"]]}],\"surface\":[{\"type\":\"surface\",\"colorbar\":{\"outlinewidth\":0,\"ticks\":\"\"},\"colorscale\":[[0.0,\"#0d0887\"],[0.1111111111111111,\"#46039f\"],[0.2222222222222222,\"#7201a8\"],[0.3333333333333333,\"#9c179e\"],[0.4444444444444444,\"#bd3786\"],[0.5555555555555556,\"#d8576b\"],[0.6666666666666666,\"#ed7953\"],[0.7777777777777778,\"#fb9f3a\"],[0.8888888888888888,\"#fdca26\"],[1.0,\"#f0f921\"]]}],\"mesh3d\":[{\"type\":\"mesh3d\",\"colorbar\":{\"outlinewidth\":0,\"ticks\":\"\"}}],\"scatter\":[{\"fillpattern\":{\"fillmode\":\"overlay\",\"size\":10,\"solidity\":0.2},\"type\":\"scatter\"}],\"parcoords\":[{\"type\":\"parcoords\",\"line\":{\"colorbar\":{\"outlinewidth\":0,\"ticks\":\"\"}}}],\"scatterpolargl\":[{\"type\":\"scatterpolargl\",\"marker\":{\"colorbar\":{\"outlinewidth\":0,\"ticks\":\"\"}}}],\"bar\":[{\"error_x\":{\"color\":\"#2a3f5f\"},\"error_y\":{\"color\":\"#2a3f5f\"},\"marker\":{\"line\":{\"color\":\"#E5ECF6\",\"width\":0.5},\"pattern\":{\"fillmode\":\"overlay\",\"size\":10,\"solidity\":0.2}},\"type\":\"bar\"}],\"scattergeo\":[{\"type\":\"scattergeo\",\"marker\":{\"colorbar\":{\"outlinewidth\":0,\"ticks\":\"\"}}}],\"scatterpolar\":[{\"type\":\"scatterpolar\",\"marker\":{\"colorbar\":{\"outlinewidth\":0,\"ticks\":\"\"}}}],\"histogram\":[{\"marker\":{\"pattern\":{\"fillmode\":\"overlay\",\"size\":10,\"solidity\":0.2}},\"type\":\"histogram\"}],\"scattergl\":[{\"type\":\"scattergl\",\"marker\":{\"colorbar\":{\"outlinewidth\":0,\"ticks\":\"\"}}}],\"scatter3d\":[{\"type\":\"scatter3d\",\"line\":{\"colorbar\":{\"outlinewidth\":0,\"ticks\":\"\"}},\"marker\":{\"colorbar\":{\"outlinewidth\":0,\"ticks\":\"\"}}}],\"scattermapbox\":[{\"type\":\"scattermapbox\",\"marker\":{\"colorbar\":{\"outlinewidth\":0,\"ticks\":\"\"}}}],\"scatterternary\":[{\"type\":\"scatterternary\",\"marker\":{\"colorbar\":{\"outlinewidth\":0,\"ticks\":\"\"}}}],\"scattercarpet\":[{\"type\":\"scattercarpet\",\"marker\":{\"colorbar\":{\"outlinewidth\":0,\"ticks\":\"\"}}}],\"carpet\":[{\"aaxis\":{\"endlinecolor\":\"#2a3f5f\",\"gridcolor\":\"white\",\"linecolor\":\"white\",\"minorgridcolor\":\"white\",\"startlinecolor\":\"#2a3f5f\"},\"baxis\":{\"endlinecolor\":\"#2a3f5f\",\"gridcolor\":\"white\",\"linecolor\":\"white\",\"minorgridcolor\":\"white\",\"startlinecolor\":\"#2a3f5f\"},\"type\":\"carpet\"}],\"table\":[{\"cells\":{\"fill\":{\"color\":\"#EBF0F8\"},\"line\":{\"color\":\"white\"}},\"header\":{\"fill\":{\"color\":\"#C8D4E3\"},\"line\":{\"color\":\"white\"}},\"type\":\"table\"}],\"barpolar\":[{\"marker\":{\"line\":{\"color\":\"#E5ECF6\",\"width\":0.5},\"pattern\":{\"fillmode\":\"overlay\",\"size\":10,\"solidity\":0.2}},\"type\":\"barpolar\"}],\"pie\":[{\"automargin\":true,\"type\":\"pie\"}]},\"layout\":{\"autotypenumbers\":\"strict\",\"colorway\":[\"#636efa\",\"#EF553B\",\"#00cc96\",\"#ab63fa\",\"#FFA15A\",\"#19d3f3\",\"#FF6692\",\"#B6E880\",\"#FF97FF\",\"#FECB52\"],\"font\":{\"color\":\"#2a3f5f\"},\"hovermode\":\"closest\",\"hoverlabel\":{\"align\":\"left\"},\"paper_bgcolor\":\"white\",\"plot_bgcolor\":\"#E5ECF6\",\"polar\":{\"bgcolor\":\"#E5ECF6\",\"angularaxis\":{\"gridcolor\":\"white\",\"linecolor\":\"white\",\"ticks\":\"\"},\"radialaxis\":{\"gridcolor\":\"white\",\"linecolor\":\"white\",\"ticks\":\"\"}},\"ternary\":{\"bgcolor\":\"#E5ECF6\",\"aaxis\":{\"gridcolor\":\"white\",\"linecolor\":\"white\",\"ticks\":\"\"},\"baxis\":{\"gridcolor\":\"white\",\"linecolor\":\"white\",\"ticks\":\"\"},\"caxis\":{\"gridcolor\":\"white\",\"linecolor\":\"white\",\"ticks\":\"\"}},\"coloraxis\":{\"colorbar\":{\"outlinewidth\":0,\"ticks\":\"\"}},\"colorscale\":{\"sequential\":[[0.0,\"#0d0887\"],[0.1111111111111111,\"#46039f\"],[0.2222222222222222,\"#7201a8\"],[0.3333333333333333,\"#9c179e\"],[0.4444444444444444,\"#bd3786\"],[0.5555555555555556,\"#d8576b\"],[0.6666666666666666,\"#ed7953\"],[0.7777777777777778,\"#fb9f3a\"],[0.8888888888888888,\"#fdca26\"],[1.0,\"#f0f921\"]],\"sequentialminus\":[[0.0,\"#0d0887\"],[0.1111111111111111,\"#46039f\"],[0.2222222222222222,\"#7201a8\"],[0.3333333333333333,\"#9c179e\"],[0.4444444444444444,\"#bd3786\"],[0.5555555555555556,\"#d8576b\"],[0.6666666666666666,\"#ed7953\"],[0.7777777777777778,\"#fb9f3a\"],[0.8888888888888888,\"#fdca26\"],[1.0,\"#f0f921\"]],\"diverging\":[[0,\"#8e0152\"],[0.1,\"#c51b7d\"],[0.2,\"#de77ae\"],[0.3,\"#f1b6da\"],[0.4,\"#fde0ef\"],[0.5,\"#f7f7f7\"],[0.6,\"#e6f5d0\"],[0.7,\"#b8e186\"],[0.8,\"#7fbc41\"],[0.9,\"#4d9221\"],[1,\"#276419\"]]},\"xaxis\":{\"gridcolor\":\"white\",\"linecolor\":\"white\",\"ticks\":\"\",\"title\":{\"standoff\":15},\"zerolinecolor\":\"white\",\"automargin\":true,\"zerolinewidth\":2},\"yaxis\":{\"gridcolor\":\"white\",\"linecolor\":\"white\",\"ticks\":\"\",\"title\":{\"standoff\":15},\"zerolinecolor\":\"white\",\"automargin\":true,\"zerolinewidth\":2},\"scene\":{\"xaxis\":{\"backgroundcolor\":\"#E5ECF6\",\"gridcolor\":\"white\",\"linecolor\":\"white\",\"showbackground\":true,\"ticks\":\"\",\"zerolinecolor\":\"white\",\"gridwidth\":2},\"yaxis\":{\"backgroundcolor\":\"#E5ECF6\",\"gridcolor\":\"white\",\"linecolor\":\"white\",\"showbackground\":true,\"ticks\":\"\",\"zerolinecolor\":\"white\",\"gridwidth\":2},\"zaxis\":{\"backgroundcolor\":\"#E5ECF6\",\"gridcolor\":\"white\",\"linecolor\":\"white\",\"showbackground\":true,\"ticks\":\"\",\"zerolinecolor\":\"white\",\"gridwidth\":2}},\"shapedefaults\":{\"line\":{\"color\":\"#2a3f5f\"}},\"annotationdefaults\":{\"arrowcolor\":\"#2a3f5f\",\"arrowhead\":0,\"arrowwidth\":1},\"geo\":{\"bgcolor\":\"white\",\"landcolor\":\"#E5ECF6\",\"subunitcolor\":\"white\",\"showland\":true,\"showlakes\":true,\"lakecolor\":\"white\"},\"title\":{\"x\":0.05},\"mapbox\":{\"style\":\"light\"}}},\"scene\":{\"domain\":{\"x\":[0.0,1.0],\"y\":[0.0,1.0]},\"xaxis\":{\"title\":{\"text\":\"PC1\"}},\"yaxis\":{\"title\":{\"text\":\"PC2\"}},\"zaxis\":{\"title\":{\"text\":\"PC3\"}}},\"coloraxis\":{\"colorbar\":{\"title\":{\"text\":\"Cluster\"}},\"colorscale\":[[0.0,\"#0d0887\"],[0.1111111111111111,\"#46039f\"],[0.2222222222222222,\"#7201a8\"],[0.3333333333333333,\"#9c179e\"],[0.4444444444444444,\"#bd3786\"],[0.5555555555555556,\"#d8576b\"],[0.6666666666666666,\"#ed7953\"],[0.7777777777777778,\"#fb9f3a\"],[0.8888888888888888,\"#fdca26\"],[1.0,\"#f0f921\"]]},\"legend\":{\"tracegroupgap\":0},\"margin\":{\"t\":60}},                        {\"responsive\": true}                    ).then(function(){\n",
              "                            \n",
              "var gd = document.getElementById('5a343d38-13f8-49da-8dc2-736e744bd0ec');\n",
              "var x = new MutationObserver(function (mutations, observer) {{\n",
              "        var display = window.getComputedStyle(gd).display;\n",
              "        if (!display || display === 'none') {{\n",
              "            console.log([gd, 'removed!']);\n",
              "            Plotly.purge(gd);\n",
              "            observer.disconnect();\n",
              "        }}\n",
              "}});\n",
              "\n",
              "// Listen for the removal of the full notebook cells\n",
              "var notebookContainer = gd.closest('#notebook-container');\n",
              "if (notebookContainer) {{\n",
              "    x.observe(notebookContainer, {childList: true});\n",
              "}}\n",
              "\n",
              "// Listen for the clearing of the current output cell\n",
              "var outputEl = gd.closest('.output');\n",
              "if (outputEl) {{\n",
              "    x.observe(outputEl, {childList: true});\n",
              "}}\n",
              "\n",
              "                        })                };                            </script>        </div>\n",
              "</body>\n",
              "</html>"
            ]
          },
          "metadata": {}
        }
      ]
    },
    {
      "cell_type": "markdown",
      "source": [
        "##PCA com 1 e 2 componentes"
      ],
      "metadata": {
        "id": "nKv3MA3Q63hV"
      }
    },
    {
      "cell_type": "code",
      "source": [
        "def plot_clusters_pca_1d(X, clusters, centroids, titulo=\"Clusters - PCA 1D\"):\n",
        "    pca = PCA(n_components=1)\n",
        "    X_pca = pca.fit_transform(X)\n",
        "    centroids_pca = pca.transform(centroids)\n",
        "\n",
        "    df = pd.DataFrame(X_pca, columns=[\"PC1\"])\n",
        "    df[\"Cluster\"] = clusters\n",
        "    df[\"PC2\"] = 0\n",
        "\n",
        "    fig = px.scatter(df, x=\"PC1\", y=\"PC2\", color=\"Cluster\",\n",
        "                     opacity=0.7, title=titulo)\n",
        "\n",
        "    fig.add_scatter(x=centroids_pca[:,0], y=[0]*len(centroids_pca),\n",
        "                    mode=\"markers\", marker=dict(size=12, color=\"red\", symbol=\"x\"),\n",
        "                    name=\"Centroides\")\n",
        "    fig.show()\n",
        "\n",
        "\n",
        "def plot_clusters_pca_2d(X, clusters, centroids, titulo=\"Clusters - PCA 2D\"):\n",
        "    pca = PCA(n_components=2)\n",
        "    X_pca = pca.fit_transform(X)\n",
        "    centroids_pca = pca.transform(centroids)\n",
        "\n",
        "    df = pd.DataFrame(X_pca, columns=[\"PC1\", \"PC2\"])\n",
        "    df[\"Cluster\"] = clusters\n",
        "\n",
        "    fig = px.scatter(df, x=\"PC1\", y=\"PC2\", color=\"Cluster\",\n",
        "                     opacity=0.7, title=titulo)\n",
        "\n",
        "    fig.add_scatter(x=centroids_pca[:,0], y=centroids_pca[:,1],\n",
        "                    mode=\"markers\", marker=dict(size=12, color=\"red\", symbol=\"x\"),\n",
        "                    name=\"Centroides\")\n",
        "    fig.show()\n",
        "\n",
        "\n",
        "plot_clusters_pca_1d(X, clusters_X, k_means.centroids)\n",
        "plot_clusters_pca_2d(X, clusters_X, k_means.centroids)"
      ],
      "metadata": {
        "id": "PwTTQ5h3dRJE",
        "colab": {
          "base_uri": "https://localhost:8080/",
          "height": 1000
        },
        "outputId": "a6a17a62-14aa-42a0-8f28-04cef1e03a20"
      },
      "execution_count": null,
      "outputs": [
        {
          "output_type": "display_data",
          "data": {
            "text/html": [
              "<html>\n",
              "<head><meta charset=\"utf-8\" /></head>\n",
              "<body>\n",
              "    <div>            <script src=\"https://cdnjs.cloudflare.com/ajax/libs/mathjax/2.7.5/MathJax.js?config=TeX-AMS-MML_SVG\"></script><script type=\"text/javascript\">if (window.MathJax && window.MathJax.Hub && window.MathJax.Hub.Config) {window.MathJax.Hub.Config({SVG: {font: \"STIX-Web\"}});}</script>                <script type=\"text/javascript\">window.PlotlyConfig = {MathJaxConfig: 'local'};</script>\n",
              "        <script charset=\"utf-8\" src=\"https://cdn.plot.ly/plotly-2.35.2.min.js\"></script>                <div id=\"be45ca92-925a-454e-88d5-1a23ed33881a\" class=\"plotly-graph-div\" style=\"height:525px; width:100%;\"></div>            <script type=\"text/javascript\">                                    window.PLOTLYENV=window.PLOTLYENV || {};                                    if (document.getElementById(\"be45ca92-925a-454e-88d5-1a23ed33881a\")) {                    Plotly.newPlot(                        \"be45ca92-925a-454e-88d5-1a23ed33881a\",                        [{\"hovertemplate\":\"PC1=%{x}\\u003cbr\\u003ePC2=%{y}\\u003cbr\\u003eCluster=%{marker.color}\\u003cextra\\u003e\\u003c\\u002fextra\\u003e\",\"legendgroup\":\"\",\"marker\":{\"color\":[0,0,2,0,1,2,1,1,2,0,1,0,0,2,1,2,1,1,0,2,0,2,2,1,0,1,2,1,0,1,1,2,2,1,1,0,2,0,0,2,2,0,0,1,1,1,2,0,2,0,2,0,1,1,2,0,2,0,1,1,2,2,1,1,1,1,2,0,0,1,2,2,2,1,0,0,1,1,0,1,0,0,2,1,1,2,0,1,0,2,2,0,0,2,0,1,2,1,0,2,1,2,2,2,0,2,0,0,1,1,2,0,2,1,0,1,2,1,2,0,2,0,1,2,1,0,1,1,1,1,2,2,0,1,2,2,2,2,0,1,2,1,0,0,1,1,0,2,0,0],\"coloraxis\":\"coloraxis\",\"opacity\":0.7,\"symbol\":\"circle\"},\"mode\":\"markers\",\"name\":\"\",\"orientation\":\"v\",\"showlegend\":false,\"x\":[0.1038310426912501,-0.008260915177083827,-0.579012675054555,0.34600960858349605,0.5407937764497073,-0.6274553785259608,0.7635079345735885,0.3572352366531637,-0.6286560545936638,0.05543659407732604,0.2925346591728033,0.2911333576252869,0.19561540969619462,-0.5435130371306202,0.4742469476483717,-0.6200996597322073,0.31478381059985283,0.5636212475370375,0.1758333867650702,-0.6756435043172595,0.18676911538836172,-0.5521572267261672,-0.6037992282085829,0.6330436323692097,0.10966425214420172,0.6386515182640258,-0.6003715890013767,0.8721942716082873,0.19255976732664348,0.5434892461418293,0.40658569910783515,-0.6730445443401013,-0.524757301271296,0.5583431388985165,0.4071464972650778,0.13567919708231568,-0.5060938570165961,0.1332721476040979,0.2543452488995588,-0.6616125934478083,-0.6084537799674026,0.3054101311939723,0.06621425473547382,0.5469621225684562,0.4241350615566444,0.7206085411087577,-0.6139765508328793,-0.1534442610188561,-0.7049322386077758,0.2625152345996753,-0.5204834613310042,0.033029374685132895,0.26816835771391223,0.6238196438809096,-0.6456446188852302,-0.021575977562209858,-0.6381847843266268,-0.005608002999631823,0.43772370235738745,0.622771338435538,-0.654152758889205,-0.5140016589867193,0.4177893088039317,0.24485036170039232,0.6089452119831236,0.42467082370225473,-0.6487880559888719,0.13585780418855797,-0.11371032303123829,0.36914899749077357,-0.6092121859663977,-0.5576743002488318,-0.6445537559251889,0.27995176630276153,-0.1715293856132757,-0.0005757570603450723,0.5110202145758134,0.7501225989574094,0.059403013068203725,0.31206632253416,0.3221338320507945,0.2829633719251705,-0.5615278884939867,0.44714261898268903,0.2194854888860842,-0.5902105874078395,0.04906762247876384,0.617986434427958,0.06205022790284376,-0.7519679431888534,-0.6874957069046894,0.2890864808244984,0.015324961909241264,-0.6126178068000326,-0.05892488444518085,0.6138649651099977,-0.6096939959117144,0.5165855429559598,0.046840659339260626,-0.6708791394507782,0.5310367055205478,-0.6307029313944523,-0.5352727781994505,-0.6121975551048959,0.06697266073446873,-0.5939323441717616,0.04399281902480734,0.13734837970263747,0.6874909166514087,0.5514616240001935,-0.5974082382364496,0.2889063944857837,-0.6923698848788327,0.2777248031632584,-0.068769750108431,0.5139326307785077,-0.6565377899938517,0.48482666253145723,-0.6257804985628272,0.09882081512553442,-0.6078051870760695,0.36322651407125894,0.5478056435967906,-0.6299445253954573,0.18226693425187346,0.037683926443952576,0.7580304009275327,0.21514137571473946,0.6147331842166546,0.7490260386545562,-0.6187409156993606,-0.7377846616970706,0.2142305990934128,0.2919137819978531,-0.6260483796356325,-0.6389431903256219,-0.6076075792343172,-0.6229049425319907,0.34600960858349605,0.5358713436180824,-0.6695203954179315,0.3222231060173577,0.2139627180206075,0.1450335378193761,0.4882075852867702,0.32870490836164246,-0.15863457492328648,-0.5770535929878569,0.15928709254221185,0.03234124191719068],\"xaxis\":\"x\",\"y\":[0,0,0,0,0,0,0,0,0,0,0,0,0,0,0,0,0,0,0,0,0,0,0,0,0,0,0,0,0,0,0,0,0,0,0,0,0,0,0,0,0,0,0,0,0,0,0,0,0,0,0,0,0,0,0,0,0,0,0,0,0,0,0,0,0,0,0,0,0,0,0,0,0,0,0,0,0,0,0,0,0,0,0,0,0,0,0,0,0,0,0,0,0,0,0,0,0,0,0,0,0,0,0,0,0,0,0,0,0,0,0,0,0,0,0,0,0,0,0,0,0,0,0,0,0,0,0,0,0,0,0,0,0,0,0,0,0,0,0,0,0,0,0,0,0,0,0,0,0,0],\"yaxis\":\"y\",\"type\":\"scatter\"},{\"marker\":{\"color\":\"red\",\"size\":12,\"symbol\":\"x\"},\"mode\":\"markers\",\"name\":\"Centroides\",\"x\":[0.1145172619252206,0.4889306670310276,-0.6184244651604811],\"y\":[0,0,0],\"type\":\"scatter\"}],                        {\"template\":{\"data\":{\"histogram2dcontour\":[{\"type\":\"histogram2dcontour\",\"colorbar\":{\"outlinewidth\":0,\"ticks\":\"\"},\"colorscale\":[[0.0,\"#0d0887\"],[0.1111111111111111,\"#46039f\"],[0.2222222222222222,\"#7201a8\"],[0.3333333333333333,\"#9c179e\"],[0.4444444444444444,\"#bd3786\"],[0.5555555555555556,\"#d8576b\"],[0.6666666666666666,\"#ed7953\"],[0.7777777777777778,\"#fb9f3a\"],[0.8888888888888888,\"#fdca26\"],[1.0,\"#f0f921\"]]}],\"choropleth\":[{\"type\":\"choropleth\",\"colorbar\":{\"outlinewidth\":0,\"ticks\":\"\"}}],\"histogram2d\":[{\"type\":\"histogram2d\",\"colorbar\":{\"outlinewidth\":0,\"ticks\":\"\"},\"colorscale\":[[0.0,\"#0d0887\"],[0.1111111111111111,\"#46039f\"],[0.2222222222222222,\"#7201a8\"],[0.3333333333333333,\"#9c179e\"],[0.4444444444444444,\"#bd3786\"],[0.5555555555555556,\"#d8576b\"],[0.6666666666666666,\"#ed7953\"],[0.7777777777777778,\"#fb9f3a\"],[0.8888888888888888,\"#fdca26\"],[1.0,\"#f0f921\"]]}],\"heatmap\":[{\"type\":\"heatmap\",\"colorbar\":{\"outlinewidth\":0,\"ticks\":\"\"},\"colorscale\":[[0.0,\"#0d0887\"],[0.1111111111111111,\"#46039f\"],[0.2222222222222222,\"#7201a8\"],[0.3333333333333333,\"#9c179e\"],[0.4444444444444444,\"#bd3786\"],[0.5555555555555556,\"#d8576b\"],[0.6666666666666666,\"#ed7953\"],[0.7777777777777778,\"#fb9f3a\"],[0.8888888888888888,\"#fdca26\"],[1.0,\"#f0f921\"]]}],\"heatmapgl\":[{\"type\":\"heatmapgl\",\"colorbar\":{\"outlinewidth\":0,\"ticks\":\"\"},\"colorscale\":[[0.0,\"#0d0887\"],[0.1111111111111111,\"#46039f\"],[0.2222222222222222,\"#7201a8\"],[0.3333333333333333,\"#9c179e\"],[0.4444444444444444,\"#bd3786\"],[0.5555555555555556,\"#d8576b\"],[0.6666666666666666,\"#ed7953\"],[0.7777777777777778,\"#fb9f3a\"],[0.8888888888888888,\"#fdca26\"],[1.0,\"#f0f921\"]]}],\"contourcarpet\":[{\"type\":\"contourcarpet\",\"colorbar\":{\"outlinewidth\":0,\"ticks\":\"\"}}],\"contour\":[{\"type\":\"contour\",\"colorbar\":{\"outlinewidth\":0,\"ticks\":\"\"},\"colorscale\":[[0.0,\"#0d0887\"],[0.1111111111111111,\"#46039f\"],[0.2222222222222222,\"#7201a8\"],[0.3333333333333333,\"#9c179e\"],[0.4444444444444444,\"#bd3786\"],[0.5555555555555556,\"#d8576b\"],[0.6666666666666666,\"#ed7953\"],[0.7777777777777778,\"#fb9f3a\"],[0.8888888888888888,\"#fdca26\"],[1.0,\"#f0f921\"]]}],\"surface\":[{\"type\":\"surface\",\"colorbar\":{\"outlinewidth\":0,\"ticks\":\"\"},\"colorscale\":[[0.0,\"#0d0887\"],[0.1111111111111111,\"#46039f\"],[0.2222222222222222,\"#7201a8\"],[0.3333333333333333,\"#9c179e\"],[0.4444444444444444,\"#bd3786\"],[0.5555555555555556,\"#d8576b\"],[0.6666666666666666,\"#ed7953\"],[0.7777777777777778,\"#fb9f3a\"],[0.8888888888888888,\"#fdca26\"],[1.0,\"#f0f921\"]]}],\"mesh3d\":[{\"type\":\"mesh3d\",\"colorbar\":{\"outlinewidth\":0,\"ticks\":\"\"}}],\"scatter\":[{\"fillpattern\":{\"fillmode\":\"overlay\",\"size\":10,\"solidity\":0.2},\"type\":\"scatter\"}],\"parcoords\":[{\"type\":\"parcoords\",\"line\":{\"colorbar\":{\"outlinewidth\":0,\"ticks\":\"\"}}}],\"scatterpolargl\":[{\"type\":\"scatterpolargl\",\"marker\":{\"colorbar\":{\"outlinewidth\":0,\"ticks\":\"\"}}}],\"bar\":[{\"error_x\":{\"color\":\"#2a3f5f\"},\"error_y\":{\"color\":\"#2a3f5f\"},\"marker\":{\"line\":{\"color\":\"#E5ECF6\",\"width\":0.5},\"pattern\":{\"fillmode\":\"overlay\",\"size\":10,\"solidity\":0.2}},\"type\":\"bar\"}],\"scattergeo\":[{\"type\":\"scattergeo\",\"marker\":{\"colorbar\":{\"outlinewidth\":0,\"ticks\":\"\"}}}],\"scatterpolar\":[{\"type\":\"scatterpolar\",\"marker\":{\"colorbar\":{\"outlinewidth\":0,\"ticks\":\"\"}}}],\"histogram\":[{\"marker\":{\"pattern\":{\"fillmode\":\"overlay\",\"size\":10,\"solidity\":0.2}},\"type\":\"histogram\"}],\"scattergl\":[{\"type\":\"scattergl\",\"marker\":{\"colorbar\":{\"outlinewidth\":0,\"ticks\":\"\"}}}],\"scatter3d\":[{\"type\":\"scatter3d\",\"line\":{\"colorbar\":{\"outlinewidth\":0,\"ticks\":\"\"}},\"marker\":{\"colorbar\":{\"outlinewidth\":0,\"ticks\":\"\"}}}],\"scattermapbox\":[{\"type\":\"scattermapbox\",\"marker\":{\"colorbar\":{\"outlinewidth\":0,\"ticks\":\"\"}}}],\"scatterternary\":[{\"type\":\"scatterternary\",\"marker\":{\"colorbar\":{\"outlinewidth\":0,\"ticks\":\"\"}}}],\"scattercarpet\":[{\"type\":\"scattercarpet\",\"marker\":{\"colorbar\":{\"outlinewidth\":0,\"ticks\":\"\"}}}],\"carpet\":[{\"aaxis\":{\"endlinecolor\":\"#2a3f5f\",\"gridcolor\":\"white\",\"linecolor\":\"white\",\"minorgridcolor\":\"white\",\"startlinecolor\":\"#2a3f5f\"},\"baxis\":{\"endlinecolor\":\"#2a3f5f\",\"gridcolor\":\"white\",\"linecolor\":\"white\",\"minorgridcolor\":\"white\",\"startlinecolor\":\"#2a3f5f\"},\"type\":\"carpet\"}],\"table\":[{\"cells\":{\"fill\":{\"color\":\"#EBF0F8\"},\"line\":{\"color\":\"white\"}},\"header\":{\"fill\":{\"color\":\"#C8D4E3\"},\"line\":{\"color\":\"white\"}},\"type\":\"table\"}],\"barpolar\":[{\"marker\":{\"line\":{\"color\":\"#E5ECF6\",\"width\":0.5},\"pattern\":{\"fillmode\":\"overlay\",\"size\":10,\"solidity\":0.2}},\"type\":\"barpolar\"}],\"pie\":[{\"automargin\":true,\"type\":\"pie\"}]},\"layout\":{\"autotypenumbers\":\"strict\",\"colorway\":[\"#636efa\",\"#EF553B\",\"#00cc96\",\"#ab63fa\",\"#FFA15A\",\"#19d3f3\",\"#FF6692\",\"#B6E880\",\"#FF97FF\",\"#FECB52\"],\"font\":{\"color\":\"#2a3f5f\"},\"hovermode\":\"closest\",\"hoverlabel\":{\"align\":\"left\"},\"paper_bgcolor\":\"white\",\"plot_bgcolor\":\"#E5ECF6\",\"polar\":{\"bgcolor\":\"#E5ECF6\",\"angularaxis\":{\"gridcolor\":\"white\",\"linecolor\":\"white\",\"ticks\":\"\"},\"radialaxis\":{\"gridcolor\":\"white\",\"linecolor\":\"white\",\"ticks\":\"\"}},\"ternary\":{\"bgcolor\":\"#E5ECF6\",\"aaxis\":{\"gridcolor\":\"white\",\"linecolor\":\"white\",\"ticks\":\"\"},\"baxis\":{\"gridcolor\":\"white\",\"linecolor\":\"white\",\"ticks\":\"\"},\"caxis\":{\"gridcolor\":\"white\",\"linecolor\":\"white\",\"ticks\":\"\"}},\"coloraxis\":{\"colorbar\":{\"outlinewidth\":0,\"ticks\":\"\"}},\"colorscale\":{\"sequential\":[[0.0,\"#0d0887\"],[0.1111111111111111,\"#46039f\"],[0.2222222222222222,\"#7201a8\"],[0.3333333333333333,\"#9c179e\"],[0.4444444444444444,\"#bd3786\"],[0.5555555555555556,\"#d8576b\"],[0.6666666666666666,\"#ed7953\"],[0.7777777777777778,\"#fb9f3a\"],[0.8888888888888888,\"#fdca26\"],[1.0,\"#f0f921\"]],\"sequentialminus\":[[0.0,\"#0d0887\"],[0.1111111111111111,\"#46039f\"],[0.2222222222222222,\"#7201a8\"],[0.3333333333333333,\"#9c179e\"],[0.4444444444444444,\"#bd3786\"],[0.5555555555555556,\"#d8576b\"],[0.6666666666666666,\"#ed7953\"],[0.7777777777777778,\"#fb9f3a\"],[0.8888888888888888,\"#fdca26\"],[1.0,\"#f0f921\"]],\"diverging\":[[0,\"#8e0152\"],[0.1,\"#c51b7d\"],[0.2,\"#de77ae\"],[0.3,\"#f1b6da\"],[0.4,\"#fde0ef\"],[0.5,\"#f7f7f7\"],[0.6,\"#e6f5d0\"],[0.7,\"#b8e186\"],[0.8,\"#7fbc41\"],[0.9,\"#4d9221\"],[1,\"#276419\"]]},\"xaxis\":{\"gridcolor\":\"white\",\"linecolor\":\"white\",\"ticks\":\"\",\"title\":{\"standoff\":15},\"zerolinecolor\":\"white\",\"automargin\":true,\"zerolinewidth\":2},\"yaxis\":{\"gridcolor\":\"white\",\"linecolor\":\"white\",\"ticks\":\"\",\"title\":{\"standoff\":15},\"zerolinecolor\":\"white\",\"automargin\":true,\"zerolinewidth\":2},\"scene\":{\"xaxis\":{\"backgroundcolor\":\"#E5ECF6\",\"gridcolor\":\"white\",\"linecolor\":\"white\",\"showbackground\":true,\"ticks\":\"\",\"zerolinecolor\":\"white\",\"gridwidth\":2},\"yaxis\":{\"backgroundcolor\":\"#E5ECF6\",\"gridcolor\":\"white\",\"linecolor\":\"white\",\"showbackground\":true,\"ticks\":\"\",\"zerolinecolor\":\"white\",\"gridwidth\":2},\"zaxis\":{\"backgroundcolor\":\"#E5ECF6\",\"gridcolor\":\"white\",\"linecolor\":\"white\",\"showbackground\":true,\"ticks\":\"\",\"zerolinecolor\":\"white\",\"gridwidth\":2}},\"shapedefaults\":{\"line\":{\"color\":\"#2a3f5f\"}},\"annotationdefaults\":{\"arrowcolor\":\"#2a3f5f\",\"arrowhead\":0,\"arrowwidth\":1},\"geo\":{\"bgcolor\":\"white\",\"landcolor\":\"#E5ECF6\",\"subunitcolor\":\"white\",\"showland\":true,\"showlakes\":true,\"lakecolor\":\"white\"},\"title\":{\"x\":0.05},\"mapbox\":{\"style\":\"light\"}}},\"xaxis\":{\"anchor\":\"y\",\"domain\":[0.0,1.0],\"title\":{\"text\":\"PC1\"}},\"yaxis\":{\"anchor\":\"x\",\"domain\":[0.0,1.0],\"title\":{\"text\":\"PC2\"}},\"coloraxis\":{\"colorbar\":{\"title\":{\"text\":\"Cluster\"}},\"colorscale\":[[0.0,\"#0d0887\"],[0.1111111111111111,\"#46039f\"],[0.2222222222222222,\"#7201a8\"],[0.3333333333333333,\"#9c179e\"],[0.4444444444444444,\"#bd3786\"],[0.5555555555555556,\"#d8576b\"],[0.6666666666666666,\"#ed7953\"],[0.7777777777777778,\"#fb9f3a\"],[0.8888888888888888,\"#fdca26\"],[1.0,\"#f0f921\"]]},\"legend\":{\"tracegroupgap\":0},\"title\":{\"text\":\"Clusters - PCA 1D\"}},                        {\"responsive\": true}                    ).then(function(){\n",
              "                            \n",
              "var gd = document.getElementById('be45ca92-925a-454e-88d5-1a23ed33881a');\n",
              "var x = new MutationObserver(function (mutations, observer) {{\n",
              "        var display = window.getComputedStyle(gd).display;\n",
              "        if (!display || display === 'none') {{\n",
              "            console.log([gd, 'removed!']);\n",
              "            Plotly.purge(gd);\n",
              "            observer.disconnect();\n",
              "        }}\n",
              "}});\n",
              "\n",
              "// Listen for the removal of the full notebook cells\n",
              "var notebookContainer = gd.closest('#notebook-container');\n",
              "if (notebookContainer) {{\n",
              "    x.observe(notebookContainer, {childList: true});\n",
              "}}\n",
              "\n",
              "// Listen for the clearing of the current output cell\n",
              "var outputEl = gd.closest('.output');\n",
              "if (outputEl) {{\n",
              "    x.observe(outputEl, {childList: true});\n",
              "}}\n",
              "\n",
              "                        })                };                            </script>        </div>\n",
              "</body>\n",
              "</html>"
            ]
          },
          "metadata": {}
        },
        {
          "output_type": "display_data",
          "data": {
            "text/html": [
              "<html>\n",
              "<head><meta charset=\"utf-8\" /></head>\n",
              "<body>\n",
              "    <div>            <script src=\"https://cdnjs.cloudflare.com/ajax/libs/mathjax/2.7.5/MathJax.js?config=TeX-AMS-MML_SVG\"></script><script type=\"text/javascript\">if (window.MathJax && window.MathJax.Hub && window.MathJax.Hub.Config) {window.MathJax.Hub.Config({SVG: {font: \"STIX-Web\"}});}</script>                <script type=\"text/javascript\">window.PlotlyConfig = {MathJaxConfig: 'local'};</script>\n",
              "        <script charset=\"utf-8\" src=\"https://cdn.plot.ly/plotly-2.35.2.min.js\"></script>                <div id=\"703573cb-60f6-4093-a490-90981b32b559\" class=\"plotly-graph-div\" style=\"height:525px; width:100%;\"></div>            <script type=\"text/javascript\">                                    window.PLOTLYENV=window.PLOTLYENV || {};                                    if (document.getElementById(\"703573cb-60f6-4093-a490-90981b32b559\")) {                    Plotly.newPlot(                        \"703573cb-60f6-4093-a490-90981b32b559\",                        [{\"hovertemplate\":\"PC1=%{x}\\u003cbr\\u003ePC2=%{y}\\u003cbr\\u003eCluster=%{marker.color}\\u003cextra\\u003e\\u003c\\u002fextra\\u003e\",\"legendgroup\":\"\",\"marker\":{\"color\":[0,0,2,0,1,2,1,1,2,0,1,0,0,2,1,2,1,1,0,2,0,2,2,1,0,1,2,1,0,1,1,2,2,1,1,0,2,0,0,2,2,0,0,1,1,1,2,0,2,0,2,0,1,1,2,0,2,0,1,1,2,2,1,1,1,1,2,0,0,1,2,2,2,1,0,0,1,1,0,1,0,0,2,1,1,2,0,1,0,2,2,0,0,2,0,1,2,1,0,2,1,2,2,2,0,2,0,0,1,1,2,0,2,1,0,1,2,1,2,0,2,0,1,2,1,0,1,1,1,1,2,2,0,1,2,2,2,2,0,1,2,1,0,0,1,1,0,2,0,0],\"coloraxis\":\"coloraxis\",\"opacity\":0.7,\"symbol\":\"circle\"},\"mode\":\"markers\",\"name\":\"\",\"orientation\":\"v\",\"showlegend\":false,\"x\":[0.1038310426912501,-0.008260915177083827,-0.5790126750545549,0.34600960858349605,0.5407937764497075,-0.6274553785259608,0.7635079345735885,0.3572352366531637,-0.6286560545936638,0.05543659407732604,0.2925346591728033,0.2911333576252869,0.19561540969619462,-0.5435130371306202,0.4742469476483717,-0.6200996597322073,0.31478381059985305,0.5636212475370375,0.17583338676507032,-0.6756435043172595,0.18676911538836172,-0.5521572267261672,-0.6037992282085829,0.6330436323692095,0.10966425214420172,0.6386515182640258,-0.6003715890013767,0.8721942716082873,0.19255976732664348,0.5434892461418293,0.40658569910783515,-0.6730445443401013,-0.524757301271296,0.5583431388985165,0.4071464972650778,0.13567919708231568,-0.5060938570165961,0.13327214760409778,0.2543452488995587,-0.6616125934478083,-0.6084537799674026,0.3054101311939723,0.06621425473547382,0.5469621225684562,0.42413506155664416,0.7206085411087577,-0.6139765508328793,-0.1534442610188561,-0.7049322386077758,0.2625152345996752,-0.5204834613310042,0.033029374685132895,0.2681683577139121,0.6238196438809096,-0.6456446188852302,-0.021575977562209858,-0.6381847843266268,-0.005608002999631823,0.43772370235738767,0.622771338435538,-0.654152758889205,-0.5140016589867193,0.4177893088039317,0.24485036170039232,0.6089452119831236,0.42467082370225473,-0.6487880559888719,0.13585780418855797,-0.11371032303123829,0.36914899749077357,-0.6092121859663977,-0.5576743002488318,-0.6445537559251889,0.27995176630276153,-0.1715293856132757,-0.0005757570603450723,0.5110202145758134,0.7501225989574094,0.059403013068203725,0.31206632253416,0.3221338320507945,0.2829633719251704,-0.5615278884939867,0.44714261898268903,0.2194854888860842,-0.5902105874078395,0.04906762247876384,0.617986434427958,0.06205022790284376,-0.7519679431888534,-0.6874957069046894,0.2890864808244984,0.015324961909241264,-0.6126178068000326,-0.05892488444518096,0.6138649651099977,-0.6096939959117144,0.5165855429559598,0.046840659339260626,-0.6708791394507782,0.531036705520548,-0.6307029313944523,-0.5352727781994505,-0.6121975551048959,0.06697266073446873,-0.5939323441717616,0.04399281902480734,0.13734837970263747,0.6874909166514087,0.5514616240001935,-0.5974082382364496,0.2889063944857837,-0.6923698848788327,0.2777248031632583,-0.068769750108431,0.5139326307785077,-0.6565377899938517,0.48482666253145723,-0.6257804985628272,0.09882081512553442,-0.6078051870760695,0.36322651407125894,0.5478056435967906,-0.6299445253954573,0.18226693425187346,0.037683926443952576,0.7580304009275327,0.21514137571473935,0.6147331842166546,0.7490260386545562,-0.6187409156993606,-0.7377846616970706,0.2142305990934128,0.2919137819978531,-0.6260483796356325,-0.6389431903256219,-0.6076075792343171,-0.6229049425319907,0.34600960858349605,0.5358713436180824,-0.6695203954179315,0.3222231060173577,0.21396271802060762,0.145033537819376,0.4882075852867702,0.3287049083616427,-0.15863457492328636,-0.5770535929878569,0.15928709254221185,0.03234124191719068],\"xaxis\":\"x\",\"y\":[-0.12178174239523809,-0.0866610980849194,0.18106512304301126,-0.15629187416923868,0.06934661651003649,0.4182575078992051,0.16818670320655305,-0.09505686709914912,0.21852691520571554,-0.2191901856206489,-0.016304428359682932,-0.05820854806797526,-0.2385509972798291,0.21463665104733587,-0.12067642259155004,-0.08039705155387789,-0.005572239654220046,0.0305994289351611,-0.0008620375903249933,-0.20070328322726066,-0.049669491590022985,0.5152559821718583,0.10716794139710262,0.0592290939653759,-0.08253797998705253,0.1669001147651099,0.3802406917540804,0.00933798116633966,-0.03955077601609036,-0.05443991036896817,0.061219296550782176,0.34471184605694405,0.10333612638783318,0.12204137407290194,-0.17182087081914926,-0.02329140793642903,0.027947084555768553,-0.059026718407550305,-0.2898153044008607,-0.11560549477402121,0.11831009905532341,-0.1617576437991145,-0.08104611980089671,0.1878124287888281,0.11391405411364752,0.3345803894011449,0.06888917192409505,-0.3788864277611519,-0.08668395211854091,-0.0295800760670325,0.2876272889071766,-0.042970854506661715,0.04727053353352029,0.13976350295032314,-0.06720800972708091,-0.2879701568451171,-0.054487386002151805,-0.23957267179817687,-0.08780497359930794,0.11680726535324104,-0.10288487104909211,0.09213551958050226,-0.026890369006211556,0.13380173302380527,0.08350184430128327,0.03530963099905604,0.13348757590158644,-0.3304625535487094,-0.4939292009541595,0.06434807195275649,0.20539632252802886,0.10210918012477233,-0.01512672529574599,0.17924579011610164,-0.3529767622094258,-0.1423677327515387,-0.13257591538169167,0.15213379990087672,-0.32850227526068587,-0.0311303854022984,-0.14050092419144544,-0.3184437764018034,0.05529016114454055,0.03756001934640507,0.10938392765823524,-0.0945510863158528,-0.17982952491424314,0.10051974054213753,-0.11768797405808579,-0.17131332246991265,0.12214191406459296,-0.16915755292383045,-0.21249450913250006,0.08166824479813439,-0.2865367458080714,0.09300293311920149,-0.4143259573548421,-0.05402994141621048,-0.2531716825777314,-0.06419613262332685,0.16853999057614066,0.1075779103498603,0.2896157239266428,0.21914038833724592,-0.16813234327360216,0.15562387559315294,-0.30615951079513415,-0.020689499785432552,0.49117991612328127,0.059841374067634345,0.21715195331778014,-0.13155070573146332,-0.1620145448014953,0.10590363245261336,-0.18564800737703846,0.09888163229704727,0.010724491106869793,0.1153486581799652,0.05713354113434399,-0.06964200881479315,-0.11642543267953659,-0.24276462451041375,0.15897629898462828,0.020491686877154858,0.1382470211646052,-0.05411301216488262,0.08794536487614302,0.11034892059341328,0.15356601790865065,0.46377839038539936,-0.0676179786798386,0.09055882107973412,0.02066078896971113,0.004049901086402463,0.09643575269163951,0.03259883747055359,0.02952851121768929,-0.10425983293702773,-0.15629187416923868,0.11979098572555302,-0.05141705974928751,0.12736800986353947,0.05996300052700687,-0.07639613445205207,0.14967752131621104,-0.06812375946313509,-0.28913984698833983,0.29370949226379517,0.00021985364307319788,-0.1411407864884779],\"yaxis\":\"y\",\"type\":\"scatter\"},{\"marker\":{\"color\":\"red\",\"size\":12,\"symbol\":\"x\"},\"mode\":\"markers\",\"name\":\"Centroides\",\"x\":[0.1145172619252206,0.48893066703102783,-0.6184244651604811],\"y\":[-0.16112725079724255,0.08278526589831658,0.06858548423110367],\"type\":\"scatter\"}],                        {\"template\":{\"data\":{\"histogram2dcontour\":[{\"type\":\"histogram2dcontour\",\"colorbar\":{\"outlinewidth\":0,\"ticks\":\"\"},\"colorscale\":[[0.0,\"#0d0887\"],[0.1111111111111111,\"#46039f\"],[0.2222222222222222,\"#7201a8\"],[0.3333333333333333,\"#9c179e\"],[0.4444444444444444,\"#bd3786\"],[0.5555555555555556,\"#d8576b\"],[0.6666666666666666,\"#ed7953\"],[0.7777777777777778,\"#fb9f3a\"],[0.8888888888888888,\"#fdca26\"],[1.0,\"#f0f921\"]]}],\"choropleth\":[{\"type\":\"choropleth\",\"colorbar\":{\"outlinewidth\":0,\"ticks\":\"\"}}],\"histogram2d\":[{\"type\":\"histogram2d\",\"colorbar\":{\"outlinewidth\":0,\"ticks\":\"\"},\"colorscale\":[[0.0,\"#0d0887\"],[0.1111111111111111,\"#46039f\"],[0.2222222222222222,\"#7201a8\"],[0.3333333333333333,\"#9c179e\"],[0.4444444444444444,\"#bd3786\"],[0.5555555555555556,\"#d8576b\"],[0.6666666666666666,\"#ed7953\"],[0.7777777777777778,\"#fb9f3a\"],[0.8888888888888888,\"#fdca26\"],[1.0,\"#f0f921\"]]}],\"heatmap\":[{\"type\":\"heatmap\",\"colorbar\":{\"outlinewidth\":0,\"ticks\":\"\"},\"colorscale\":[[0.0,\"#0d0887\"],[0.1111111111111111,\"#46039f\"],[0.2222222222222222,\"#7201a8\"],[0.3333333333333333,\"#9c179e\"],[0.4444444444444444,\"#bd3786\"],[0.5555555555555556,\"#d8576b\"],[0.6666666666666666,\"#ed7953\"],[0.7777777777777778,\"#fb9f3a\"],[0.8888888888888888,\"#fdca26\"],[1.0,\"#f0f921\"]]}],\"heatmapgl\":[{\"type\":\"heatmapgl\",\"colorbar\":{\"outlinewidth\":0,\"ticks\":\"\"},\"colorscale\":[[0.0,\"#0d0887\"],[0.1111111111111111,\"#46039f\"],[0.2222222222222222,\"#7201a8\"],[0.3333333333333333,\"#9c179e\"],[0.4444444444444444,\"#bd3786\"],[0.5555555555555556,\"#d8576b\"],[0.6666666666666666,\"#ed7953\"],[0.7777777777777778,\"#fb9f3a\"],[0.8888888888888888,\"#fdca26\"],[1.0,\"#f0f921\"]]}],\"contourcarpet\":[{\"type\":\"contourcarpet\",\"colorbar\":{\"outlinewidth\":0,\"ticks\":\"\"}}],\"contour\":[{\"type\":\"contour\",\"colorbar\":{\"outlinewidth\":0,\"ticks\":\"\"},\"colorscale\":[[0.0,\"#0d0887\"],[0.1111111111111111,\"#46039f\"],[0.2222222222222222,\"#7201a8\"],[0.3333333333333333,\"#9c179e\"],[0.4444444444444444,\"#bd3786\"],[0.5555555555555556,\"#d8576b\"],[0.6666666666666666,\"#ed7953\"],[0.7777777777777778,\"#fb9f3a\"],[0.8888888888888888,\"#fdca26\"],[1.0,\"#f0f921\"]]}],\"surface\":[{\"type\":\"surface\",\"colorbar\":{\"outlinewidth\":0,\"ticks\":\"\"},\"colorscale\":[[0.0,\"#0d0887\"],[0.1111111111111111,\"#46039f\"],[0.2222222222222222,\"#7201a8\"],[0.3333333333333333,\"#9c179e\"],[0.4444444444444444,\"#bd3786\"],[0.5555555555555556,\"#d8576b\"],[0.6666666666666666,\"#ed7953\"],[0.7777777777777778,\"#fb9f3a\"],[0.8888888888888888,\"#fdca26\"],[1.0,\"#f0f921\"]]}],\"mesh3d\":[{\"type\":\"mesh3d\",\"colorbar\":{\"outlinewidth\":0,\"ticks\":\"\"}}],\"scatter\":[{\"fillpattern\":{\"fillmode\":\"overlay\",\"size\":10,\"solidity\":0.2},\"type\":\"scatter\"}],\"parcoords\":[{\"type\":\"parcoords\",\"line\":{\"colorbar\":{\"outlinewidth\":0,\"ticks\":\"\"}}}],\"scatterpolargl\":[{\"type\":\"scatterpolargl\",\"marker\":{\"colorbar\":{\"outlinewidth\":0,\"ticks\":\"\"}}}],\"bar\":[{\"error_x\":{\"color\":\"#2a3f5f\"},\"error_y\":{\"color\":\"#2a3f5f\"},\"marker\":{\"line\":{\"color\":\"#E5ECF6\",\"width\":0.5},\"pattern\":{\"fillmode\":\"overlay\",\"size\":10,\"solidity\":0.2}},\"type\":\"bar\"}],\"scattergeo\":[{\"type\":\"scattergeo\",\"marker\":{\"colorbar\":{\"outlinewidth\":0,\"ticks\":\"\"}}}],\"scatterpolar\":[{\"type\":\"scatterpolar\",\"marker\":{\"colorbar\":{\"outlinewidth\":0,\"ticks\":\"\"}}}],\"histogram\":[{\"marker\":{\"pattern\":{\"fillmode\":\"overlay\",\"size\":10,\"solidity\":0.2}},\"type\":\"histogram\"}],\"scattergl\":[{\"type\":\"scattergl\",\"marker\":{\"colorbar\":{\"outlinewidth\":0,\"ticks\":\"\"}}}],\"scatter3d\":[{\"type\":\"scatter3d\",\"line\":{\"colorbar\":{\"outlinewidth\":0,\"ticks\":\"\"}},\"marker\":{\"colorbar\":{\"outlinewidth\":0,\"ticks\":\"\"}}}],\"scattermapbox\":[{\"type\":\"scattermapbox\",\"marker\":{\"colorbar\":{\"outlinewidth\":0,\"ticks\":\"\"}}}],\"scatterternary\":[{\"type\":\"scatterternary\",\"marker\":{\"colorbar\":{\"outlinewidth\":0,\"ticks\":\"\"}}}],\"scattercarpet\":[{\"type\":\"scattercarpet\",\"marker\":{\"colorbar\":{\"outlinewidth\":0,\"ticks\":\"\"}}}],\"carpet\":[{\"aaxis\":{\"endlinecolor\":\"#2a3f5f\",\"gridcolor\":\"white\",\"linecolor\":\"white\",\"minorgridcolor\":\"white\",\"startlinecolor\":\"#2a3f5f\"},\"baxis\":{\"endlinecolor\":\"#2a3f5f\",\"gridcolor\":\"white\",\"linecolor\":\"white\",\"minorgridcolor\":\"white\",\"startlinecolor\":\"#2a3f5f\"},\"type\":\"carpet\"}],\"table\":[{\"cells\":{\"fill\":{\"color\":\"#EBF0F8\"},\"line\":{\"color\":\"white\"}},\"header\":{\"fill\":{\"color\":\"#C8D4E3\"},\"line\":{\"color\":\"white\"}},\"type\":\"table\"}],\"barpolar\":[{\"marker\":{\"line\":{\"color\":\"#E5ECF6\",\"width\":0.5},\"pattern\":{\"fillmode\":\"overlay\",\"size\":10,\"solidity\":0.2}},\"type\":\"barpolar\"}],\"pie\":[{\"automargin\":true,\"type\":\"pie\"}]},\"layout\":{\"autotypenumbers\":\"strict\",\"colorway\":[\"#636efa\",\"#EF553B\",\"#00cc96\",\"#ab63fa\",\"#FFA15A\",\"#19d3f3\",\"#FF6692\",\"#B6E880\",\"#FF97FF\",\"#FECB52\"],\"font\":{\"color\":\"#2a3f5f\"},\"hovermode\":\"closest\",\"hoverlabel\":{\"align\":\"left\"},\"paper_bgcolor\":\"white\",\"plot_bgcolor\":\"#E5ECF6\",\"polar\":{\"bgcolor\":\"#E5ECF6\",\"angularaxis\":{\"gridcolor\":\"white\",\"linecolor\":\"white\",\"ticks\":\"\"},\"radialaxis\":{\"gridcolor\":\"white\",\"linecolor\":\"white\",\"ticks\":\"\"}},\"ternary\":{\"bgcolor\":\"#E5ECF6\",\"aaxis\":{\"gridcolor\":\"white\",\"linecolor\":\"white\",\"ticks\":\"\"},\"baxis\":{\"gridcolor\":\"white\",\"linecolor\":\"white\",\"ticks\":\"\"},\"caxis\":{\"gridcolor\":\"white\",\"linecolor\":\"white\",\"ticks\":\"\"}},\"coloraxis\":{\"colorbar\":{\"outlinewidth\":0,\"ticks\":\"\"}},\"colorscale\":{\"sequential\":[[0.0,\"#0d0887\"],[0.1111111111111111,\"#46039f\"],[0.2222222222222222,\"#7201a8\"],[0.3333333333333333,\"#9c179e\"],[0.4444444444444444,\"#bd3786\"],[0.5555555555555556,\"#d8576b\"],[0.6666666666666666,\"#ed7953\"],[0.7777777777777778,\"#fb9f3a\"],[0.8888888888888888,\"#fdca26\"],[1.0,\"#f0f921\"]],\"sequentialminus\":[[0.0,\"#0d0887\"],[0.1111111111111111,\"#46039f\"],[0.2222222222222222,\"#7201a8\"],[0.3333333333333333,\"#9c179e\"],[0.4444444444444444,\"#bd3786\"],[0.5555555555555556,\"#d8576b\"],[0.6666666666666666,\"#ed7953\"],[0.7777777777777778,\"#fb9f3a\"],[0.8888888888888888,\"#fdca26\"],[1.0,\"#f0f921\"]],\"diverging\":[[0,\"#8e0152\"],[0.1,\"#c51b7d\"],[0.2,\"#de77ae\"],[0.3,\"#f1b6da\"],[0.4,\"#fde0ef\"],[0.5,\"#f7f7f7\"],[0.6,\"#e6f5d0\"],[0.7,\"#b8e186\"],[0.8,\"#7fbc41\"],[0.9,\"#4d9221\"],[1,\"#276419\"]]},\"xaxis\":{\"gridcolor\":\"white\",\"linecolor\":\"white\",\"ticks\":\"\",\"title\":{\"standoff\":15},\"zerolinecolor\":\"white\",\"automargin\":true,\"zerolinewidth\":2},\"yaxis\":{\"gridcolor\":\"white\",\"linecolor\":\"white\",\"ticks\":\"\",\"title\":{\"standoff\":15},\"zerolinecolor\":\"white\",\"automargin\":true,\"zerolinewidth\":2},\"scene\":{\"xaxis\":{\"backgroundcolor\":\"#E5ECF6\",\"gridcolor\":\"white\",\"linecolor\":\"white\",\"showbackground\":true,\"ticks\":\"\",\"zerolinecolor\":\"white\",\"gridwidth\":2},\"yaxis\":{\"backgroundcolor\":\"#E5ECF6\",\"gridcolor\":\"white\",\"linecolor\":\"white\",\"showbackground\":true,\"ticks\":\"\",\"zerolinecolor\":\"white\",\"gridwidth\":2},\"zaxis\":{\"backgroundcolor\":\"#E5ECF6\",\"gridcolor\":\"white\",\"linecolor\":\"white\",\"showbackground\":true,\"ticks\":\"\",\"zerolinecolor\":\"white\",\"gridwidth\":2}},\"shapedefaults\":{\"line\":{\"color\":\"#2a3f5f\"}},\"annotationdefaults\":{\"arrowcolor\":\"#2a3f5f\",\"arrowhead\":0,\"arrowwidth\":1},\"geo\":{\"bgcolor\":\"white\",\"landcolor\":\"#E5ECF6\",\"subunitcolor\":\"white\",\"showland\":true,\"showlakes\":true,\"lakecolor\":\"white\"},\"title\":{\"x\":0.05},\"mapbox\":{\"style\":\"light\"}}},\"xaxis\":{\"anchor\":\"y\",\"domain\":[0.0,1.0],\"title\":{\"text\":\"PC1\"}},\"yaxis\":{\"anchor\":\"x\",\"domain\":[0.0,1.0],\"title\":{\"text\":\"PC2\"}},\"coloraxis\":{\"colorbar\":{\"title\":{\"text\":\"Cluster\"}},\"colorscale\":[[0.0,\"#0d0887\"],[0.1111111111111111,\"#46039f\"],[0.2222222222222222,\"#7201a8\"],[0.3333333333333333,\"#9c179e\"],[0.4444444444444444,\"#bd3786\"],[0.5555555555555556,\"#d8576b\"],[0.6666666666666666,\"#ed7953\"],[0.7777777777777778,\"#fb9f3a\"],[0.8888888888888888,\"#fdca26\"],[1.0,\"#f0f921\"]]},\"legend\":{\"tracegroupgap\":0},\"title\":{\"text\":\"Clusters - PCA 2D\"}},                        {\"responsive\": true}                    ).then(function(){\n",
              "                            \n",
              "var gd = document.getElementById('703573cb-60f6-4093-a490-90981b32b559');\n",
              "var x = new MutationObserver(function (mutations, observer) {{\n",
              "        var display = window.getComputedStyle(gd).display;\n",
              "        if (!display || display === 'none') {{\n",
              "            console.log([gd, 'removed!']);\n",
              "            Plotly.purge(gd);\n",
              "            observer.disconnect();\n",
              "        }}\n",
              "}});\n",
              "\n",
              "// Listen for the removal of the full notebook cells\n",
              "var notebookContainer = gd.closest('#notebook-container');\n",
              "if (notebookContainer) {{\n",
              "    x.observe(notebookContainer, {childList: true});\n",
              "}}\n",
              "\n",
              "// Listen for the clearing of the current output cell\n",
              "var outputEl = gd.closest('.output');\n",
              "if (outputEl) {{\n",
              "    x.observe(outputEl, {childList: true});\n",
              "}}\n",
              "\n",
              "                        })                };                            </script>        </div>\n",
              "</body>\n",
              "</html>"
            ]
          },
          "metadata": {}
        }
      ]
    },
    {
      "cell_type": "code",
      "source": [],
      "metadata": {
        "id": "4pmlMVR271pT"
      },
      "execution_count": null,
      "outputs": []
    }
  ]
}